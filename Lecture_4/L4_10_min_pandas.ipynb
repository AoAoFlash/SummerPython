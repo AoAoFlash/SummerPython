{
 "metadata": {
  "language_info": {
   "codemirror_mode": {
    "name": "ipython",
    "version": 3
   },
   "file_extension": ".py",
   "mimetype": "text/x-python",
   "name": "python",
   "nbconvert_exporter": "python",
   "pygments_lexer": "ipython3",
   "version": 3
  },
  "orig_nbformat": 2,
  "kernelspec": {
   "name": "python_defaultSpec_1595054826398",
   "display_name": "Python 3.6.4 64-bit ('base': conda)"
  }
 },
 "nbformat": 4,
 "nbformat_minor": 2,
 "cells": [
  {
   "cell_type": "markdown",
   "metadata": {},
   "source": [
    "## 10 Minutes to pandas¶\n",
    "https://pandas.pydata.org/pandas-docs/version/0.22.0/10min.html"
   ]
  },
  {
   "cell_type": "code",
   "execution_count": 1,
   "metadata": {},
   "outputs": [],
   "source": [
    "import pandas as pd\n",
    "import numpy as np\n",
    "import matplotlib.pyplot as plt"
   ]
  },
  {
   "cell_type": "code",
   "execution_count": 3,
   "metadata": {},
   "outputs": [
    {
     "output_type": "execute_result",
     "data": {
      "text/plain": "0    1.0\n1    3.0\n2    5.0\n3    NaN\n4    6.0\n5    8.0\ndtype: float64"
     },
     "metadata": {},
     "execution_count": 3
    }
   ],
   "source": [
    "a = pd.Series([1,3,5,np.nan,6,8])\n",
    "a"
   ]
  },
  {
   "cell_type": "code",
   "execution_count": 4,
   "metadata": {},
   "outputs": [
    {
     "output_type": "execute_result",
     "data": {
      "text/plain": "DatetimeIndex(['2020-07-18', '2020-07-19', '2020-07-20', '2020-07-21',\n               '2020-07-22', '2020-07-23'],\n              dtype='datetime64[ns]', freq='D')"
     },
     "metadata": {},
     "execution_count": 4
    }
   ],
   "source": [
    "dates = pd.date_range('20200718',periods=6)\n",
    "dates"
   ]
  },
  {
   "cell_type": "code",
   "execution_count": 37,
   "metadata": {},
   "outputs": [
    {
     "output_type": "execute_result",
     "data": {
      "text/plain": "                   A         B         C         D\n2020-07-18 -0.082896 -1.683613  0.514773  0.340943\n2020-07-19 -0.772733  0.109153 -0.762324 -0.490873\n2020-07-20  0.179611  1.688874  0.255209 -0.925943\n2020-07-21  0.043059 -0.048799 -1.246318 -1.067498\n2020-07-22  0.211234 -0.862456  0.072104  1.708782\n2020-07-23 -0.413367  1.172319 -1.118971 -0.836292",
      "text/html": "<div>\n<style scoped>\n    .dataframe tbody tr th:only-of-type {\n        vertical-align: middle;\n    }\n\n    .dataframe tbody tr th {\n        vertical-align: top;\n    }\n\n    .dataframe thead th {\n        text-align: right;\n    }\n</style>\n<table border=\"1\" class=\"dataframe\">\n  <thead>\n    <tr style=\"text-align: right;\">\n      <th></th>\n      <th>A</th>\n      <th>B</th>\n      <th>C</th>\n      <th>D</th>\n    </tr>\n  </thead>\n  <tbody>\n    <tr>\n      <th>2020-07-18</th>\n      <td>-0.082896</td>\n      <td>-1.683613</td>\n      <td>0.514773</td>\n      <td>0.340943</td>\n    </tr>\n    <tr>\n      <th>2020-07-19</th>\n      <td>-0.772733</td>\n      <td>0.109153</td>\n      <td>-0.762324</td>\n      <td>-0.490873</td>\n    </tr>\n    <tr>\n      <th>2020-07-20</th>\n      <td>0.179611</td>\n      <td>1.688874</td>\n      <td>0.255209</td>\n      <td>-0.925943</td>\n    </tr>\n    <tr>\n      <th>2020-07-21</th>\n      <td>0.043059</td>\n      <td>-0.048799</td>\n      <td>-1.246318</td>\n      <td>-1.067498</td>\n    </tr>\n    <tr>\n      <th>2020-07-22</th>\n      <td>0.211234</td>\n      <td>-0.862456</td>\n      <td>0.072104</td>\n      <td>1.708782</td>\n    </tr>\n    <tr>\n      <th>2020-07-23</th>\n      <td>-0.413367</td>\n      <td>1.172319</td>\n      <td>-1.118971</td>\n      <td>-0.836292</td>\n    </tr>\n  </tbody>\n</table>\n</div>"
     },
     "metadata": {},
     "execution_count": 37
    }
   ],
   "source": [
    "df=pd.DataFrame(np.random.randn(6,4),index=dates,columns=list('ABCD'))\n",
    "df"
   ]
  },
  {
   "cell_type": "code",
   "execution_count": 38,
   "metadata": {},
   "outputs": [
    {
     "output_type": "execute_result",
     "data": {
      "text/plain": "   A          B    C  D      E    F\n0  1 2020-07-18  1.0  3   test  foo\n1  1 2020-07-18  1.0  3  train  foo\n2  1 2020-07-18  1.0  3   test  foo\n3  1 2020-07-18  1.0  3  train  foo",
      "text/html": "<div>\n<style scoped>\n    .dataframe tbody tr th:only-of-type {\n        vertical-align: middle;\n    }\n\n    .dataframe tbody tr th {\n        vertical-align: top;\n    }\n\n    .dataframe thead th {\n        text-align: right;\n    }\n</style>\n<table border=\"1\" class=\"dataframe\">\n  <thead>\n    <tr style=\"text-align: right;\">\n      <th></th>\n      <th>A</th>\n      <th>B</th>\n      <th>C</th>\n      <th>D</th>\n      <th>E</th>\n      <th>F</th>\n    </tr>\n  </thead>\n  <tbody>\n    <tr>\n      <th>0</th>\n      <td>1</td>\n      <td>2020-07-18</td>\n      <td>1.0</td>\n      <td>3</td>\n      <td>test</td>\n      <td>foo</td>\n    </tr>\n    <tr>\n      <th>1</th>\n      <td>1</td>\n      <td>2020-07-18</td>\n      <td>1.0</td>\n      <td>3</td>\n      <td>train</td>\n      <td>foo</td>\n    </tr>\n    <tr>\n      <th>2</th>\n      <td>1</td>\n      <td>2020-07-18</td>\n      <td>1.0</td>\n      <td>3</td>\n      <td>test</td>\n      <td>foo</td>\n    </tr>\n    <tr>\n      <th>3</th>\n      <td>1</td>\n      <td>2020-07-18</td>\n      <td>1.0</td>\n      <td>3</td>\n      <td>train</td>\n      <td>foo</td>\n    </tr>\n  </tbody>\n</table>\n</div>"
     },
     "metadata": {},
     "execution_count": 38
    }
   ],
   "source": [
    "df2 = pd.DataFrame(\n",
    "    {\n",
    "        \"A\": 1,\n",
    "        \"B\": pd.Timestamp(\"20200718\"),\n",
    "        \"C\": pd.Series(1, index=list(range(4)), dtype=\"float32\"),\n",
    "        \"D\": np.array([3] * 4, dtype=\"int32\"),\n",
    "        \"E\": pd.Categorical([\"test\", \"train\", \"test\", \"train\"]),\n",
    "        \"F\": \"foo\",\n",
    "    }\n",
    ")\n",
    "df2"
   ]
  },
  {
   "cell_type": "code",
   "execution_count": 39,
   "metadata": {},
   "outputs": [
    {
     "output_type": "execute_result",
     "data": {
      "text/plain": "A             int64\nB    datetime64[ns]\nC           float32\nD             int32\nE          category\nF            object\ndtype: object"
     },
     "metadata": {},
     "execution_count": 39
    }
   ],
   "source": [
    "df2.dtypes"
   ]
  },
  {
   "cell_type": "code",
   "execution_count": 40,
   "metadata": {},
   "outputs": [
    {
     "output_type": "execute_result",
     "data": {
      "text/plain": "                   A         B         C         D\n2020-07-18 -0.082896 -1.683613  0.514773  0.340943\n2020-07-19 -0.772733  0.109153 -0.762324 -0.490873\n2020-07-20  0.179611  1.688874  0.255209 -0.925943\n2020-07-21  0.043059 -0.048799 -1.246318 -1.067498\n2020-07-22  0.211234 -0.862456  0.072104  1.708782",
      "text/html": "<div>\n<style scoped>\n    .dataframe tbody tr th:only-of-type {\n        vertical-align: middle;\n    }\n\n    .dataframe tbody tr th {\n        vertical-align: top;\n    }\n\n    .dataframe thead th {\n        text-align: right;\n    }\n</style>\n<table border=\"1\" class=\"dataframe\">\n  <thead>\n    <tr style=\"text-align: right;\">\n      <th></th>\n      <th>A</th>\n      <th>B</th>\n      <th>C</th>\n      <th>D</th>\n    </tr>\n  </thead>\n  <tbody>\n    <tr>\n      <th>2020-07-18</th>\n      <td>-0.082896</td>\n      <td>-1.683613</td>\n      <td>0.514773</td>\n      <td>0.340943</td>\n    </tr>\n    <tr>\n      <th>2020-07-19</th>\n      <td>-0.772733</td>\n      <td>0.109153</td>\n      <td>-0.762324</td>\n      <td>-0.490873</td>\n    </tr>\n    <tr>\n      <th>2020-07-20</th>\n      <td>0.179611</td>\n      <td>1.688874</td>\n      <td>0.255209</td>\n      <td>-0.925943</td>\n    </tr>\n    <tr>\n      <th>2020-07-21</th>\n      <td>0.043059</td>\n      <td>-0.048799</td>\n      <td>-1.246318</td>\n      <td>-1.067498</td>\n    </tr>\n    <tr>\n      <th>2020-07-22</th>\n      <td>0.211234</td>\n      <td>-0.862456</td>\n      <td>0.072104</td>\n      <td>1.708782</td>\n    </tr>\n  </tbody>\n</table>\n</div>"
     },
     "metadata": {},
     "execution_count": 40
    }
   ],
   "source": [
    "df.head()"
   ]
  },
  {
   "cell_type": "code",
   "execution_count": 41,
   "metadata": {},
   "outputs": [
    {
     "output_type": "execute_result",
     "data": {
      "text/plain": "                   A         B         C         D\n2020-07-19 -0.772733  0.109153 -0.762324 -0.490873\n2020-07-20  0.179611  1.688874  0.255209 -0.925943\n2020-07-21  0.043059 -0.048799 -1.246318 -1.067498\n2020-07-22  0.211234 -0.862456  0.072104  1.708782\n2020-07-23 -0.413367  1.172319 -1.118971 -0.836292",
      "text/html": "<div>\n<style scoped>\n    .dataframe tbody tr th:only-of-type {\n        vertical-align: middle;\n    }\n\n    .dataframe tbody tr th {\n        vertical-align: top;\n    }\n\n    .dataframe thead th {\n        text-align: right;\n    }\n</style>\n<table border=\"1\" class=\"dataframe\">\n  <thead>\n    <tr style=\"text-align: right;\">\n      <th></th>\n      <th>A</th>\n      <th>B</th>\n      <th>C</th>\n      <th>D</th>\n    </tr>\n  </thead>\n  <tbody>\n    <tr>\n      <th>2020-07-19</th>\n      <td>-0.772733</td>\n      <td>0.109153</td>\n      <td>-0.762324</td>\n      <td>-0.490873</td>\n    </tr>\n    <tr>\n      <th>2020-07-20</th>\n      <td>0.179611</td>\n      <td>1.688874</td>\n      <td>0.255209</td>\n      <td>-0.925943</td>\n    </tr>\n    <tr>\n      <th>2020-07-21</th>\n      <td>0.043059</td>\n      <td>-0.048799</td>\n      <td>-1.246318</td>\n      <td>-1.067498</td>\n    </tr>\n    <tr>\n      <th>2020-07-22</th>\n      <td>0.211234</td>\n      <td>-0.862456</td>\n      <td>0.072104</td>\n      <td>1.708782</td>\n    </tr>\n    <tr>\n      <th>2020-07-23</th>\n      <td>-0.413367</td>\n      <td>1.172319</td>\n      <td>-1.118971</td>\n      <td>-0.836292</td>\n    </tr>\n  </tbody>\n</table>\n</div>"
     },
     "metadata": {},
     "execution_count": 41
    }
   ],
   "source": [
    "df.tail()"
   ]
  },
  {
   "cell_type": "code",
   "execution_count": 42,
   "metadata": {},
   "outputs": [
    {
     "output_type": "execute_result",
     "data": {
      "text/plain": "DatetimeIndex(['2020-07-18', '2020-07-19', '2020-07-20', '2020-07-21',\n               '2020-07-22', '2020-07-23'],\n              dtype='datetime64[ns]', freq='D')"
     },
     "metadata": {},
     "execution_count": 42
    }
   ],
   "source": [
    "df.index"
   ]
  },
  {
   "cell_type": "code",
   "execution_count": 43,
   "metadata": {},
   "outputs": [
    {
     "output_type": "execute_result",
     "data": {
      "text/plain": "Index(['A', 'B', 'C', 'D'], dtype='object')"
     },
     "metadata": {},
     "execution_count": 43
    }
   ],
   "source": [
    "df.columns"
   ]
  },
  {
   "cell_type": "code",
   "execution_count": 44,
   "metadata": {},
   "outputs": [
    {
     "output_type": "execute_result",
     "data": {
      "text/plain": "array([[-0.08289558, -1.68361261,  0.51477262,  0.34094281],\n       [-0.77273327,  0.10915312, -0.76232421, -0.49087314],\n       [ 0.17961052,  1.6888737 ,  0.2552086 , -0.92594335],\n       [ 0.04305943, -0.04879872, -1.24631848, -1.06749798],\n       [ 0.21123438, -0.86245639,  0.07210376,  1.70878162],\n       [-0.41336723,  1.17231902, -1.11897078, -0.8362918 ]])"
     },
     "metadata": {},
     "execution_count": 44
    }
   ],
   "source": [
    "df.values"
   ]
  },
  {
   "cell_type": "code",
   "execution_count": 45,
   "metadata": {},
   "outputs": [
    {
     "output_type": "execute_result",
     "data": {
      "text/plain": "              A         B         C         D\ncount  6.000000  6.000000  6.000000  6.000000\nmean  -0.139182  0.062580 -0.380921 -0.211814\nstd    0.384022  1.248664  0.755150  1.068106\nmin   -0.772733 -1.683613 -1.246318 -1.067498\n25%   -0.330749 -0.659042 -1.029809 -0.903530\n50%   -0.019918  0.030177 -0.345110 -0.663582\n75%    0.145473  0.906528  0.209432  0.132989\nmax    0.211234  1.688874  0.514773  1.708782",
      "text/html": "<div>\n<style scoped>\n    .dataframe tbody tr th:only-of-type {\n        vertical-align: middle;\n    }\n\n    .dataframe tbody tr th {\n        vertical-align: top;\n    }\n\n    .dataframe thead th {\n        text-align: right;\n    }\n</style>\n<table border=\"1\" class=\"dataframe\">\n  <thead>\n    <tr style=\"text-align: right;\">\n      <th></th>\n      <th>A</th>\n      <th>B</th>\n      <th>C</th>\n      <th>D</th>\n    </tr>\n  </thead>\n  <tbody>\n    <tr>\n      <th>count</th>\n      <td>6.000000</td>\n      <td>6.000000</td>\n      <td>6.000000</td>\n      <td>6.000000</td>\n    </tr>\n    <tr>\n      <th>mean</th>\n      <td>-0.139182</td>\n      <td>0.062580</td>\n      <td>-0.380921</td>\n      <td>-0.211814</td>\n    </tr>\n    <tr>\n      <th>std</th>\n      <td>0.384022</td>\n      <td>1.248664</td>\n      <td>0.755150</td>\n      <td>1.068106</td>\n    </tr>\n    <tr>\n      <th>min</th>\n      <td>-0.772733</td>\n      <td>-1.683613</td>\n      <td>-1.246318</td>\n      <td>-1.067498</td>\n    </tr>\n    <tr>\n      <th>25%</th>\n      <td>-0.330749</td>\n      <td>-0.659042</td>\n      <td>-1.029809</td>\n      <td>-0.903530</td>\n    </tr>\n    <tr>\n      <th>50%</th>\n      <td>-0.019918</td>\n      <td>0.030177</td>\n      <td>-0.345110</td>\n      <td>-0.663582</td>\n    </tr>\n    <tr>\n      <th>75%</th>\n      <td>0.145473</td>\n      <td>0.906528</td>\n      <td>0.209432</td>\n      <td>0.132989</td>\n    </tr>\n    <tr>\n      <th>max</th>\n      <td>0.211234</td>\n      <td>1.688874</td>\n      <td>0.514773</td>\n      <td>1.708782</td>\n    </tr>\n  </tbody>\n</table>\n</div>"
     },
     "metadata": {},
     "execution_count": 45
    }
   ],
   "source": [
    "df.describe()"
   ]
  },
  {
   "cell_type": "code",
   "execution_count": 46,
   "metadata": {},
   "outputs": [
    {
     "output_type": "execute_result",
     "data": {
      "text/plain": "   2020-07-18  2020-07-19  2020-07-20  2020-07-21  2020-07-22  2020-07-23\nA   -0.082896   -0.772733    0.179611    0.043059    0.211234   -0.413367\nB   -1.683613    0.109153    1.688874   -0.048799   -0.862456    1.172319\nC    0.514773   -0.762324    0.255209   -1.246318    0.072104   -1.118971\nD    0.340943   -0.490873   -0.925943   -1.067498    1.708782   -0.836292",
      "text/html": "<div>\n<style scoped>\n    .dataframe tbody tr th:only-of-type {\n        vertical-align: middle;\n    }\n\n    .dataframe tbody tr th {\n        vertical-align: top;\n    }\n\n    .dataframe thead th {\n        text-align: right;\n    }\n</style>\n<table border=\"1\" class=\"dataframe\">\n  <thead>\n    <tr style=\"text-align: right;\">\n      <th></th>\n      <th>2020-07-18</th>\n      <th>2020-07-19</th>\n      <th>2020-07-20</th>\n      <th>2020-07-21</th>\n      <th>2020-07-22</th>\n      <th>2020-07-23</th>\n    </tr>\n  </thead>\n  <tbody>\n    <tr>\n      <th>A</th>\n      <td>-0.082896</td>\n      <td>-0.772733</td>\n      <td>0.179611</td>\n      <td>0.043059</td>\n      <td>0.211234</td>\n      <td>-0.413367</td>\n    </tr>\n    <tr>\n      <th>B</th>\n      <td>-1.683613</td>\n      <td>0.109153</td>\n      <td>1.688874</td>\n      <td>-0.048799</td>\n      <td>-0.862456</td>\n      <td>1.172319</td>\n    </tr>\n    <tr>\n      <th>C</th>\n      <td>0.514773</td>\n      <td>-0.762324</td>\n      <td>0.255209</td>\n      <td>-1.246318</td>\n      <td>0.072104</td>\n      <td>-1.118971</td>\n    </tr>\n    <tr>\n      <th>D</th>\n      <td>0.340943</td>\n      <td>-0.490873</td>\n      <td>-0.925943</td>\n      <td>-1.067498</td>\n      <td>1.708782</td>\n      <td>-0.836292</td>\n    </tr>\n  </tbody>\n</table>\n</div>"
     },
     "metadata": {},
     "execution_count": 46
    }
   ],
   "source": [
    "df.T"
   ]
  },
  {
   "cell_type": "code",
   "execution_count": 47,
   "metadata": {},
   "outputs": [
    {
     "output_type": "execute_result",
     "data": {
      "text/plain": "                   A         B         C         D\n2020-07-18 -0.082896 -1.683613  0.514773  0.340943\n2020-07-19 -0.772733  0.109153 -0.762324 -0.490873\n2020-07-20  0.179611  1.688874  0.255209 -0.925943\n2020-07-21  0.043059 -0.048799 -1.246318 -1.067498\n2020-07-22  0.211234 -0.862456  0.072104  1.708782\n2020-07-23 -0.413367  1.172319 -1.118971 -0.836292",
      "text/html": "<div>\n<style scoped>\n    .dataframe tbody tr th:only-of-type {\n        vertical-align: middle;\n    }\n\n    .dataframe tbody tr th {\n        vertical-align: top;\n    }\n\n    .dataframe thead th {\n        text-align: right;\n    }\n</style>\n<table border=\"1\" class=\"dataframe\">\n  <thead>\n    <tr style=\"text-align: right;\">\n      <th></th>\n      <th>A</th>\n      <th>B</th>\n      <th>C</th>\n      <th>D</th>\n    </tr>\n  </thead>\n  <tbody>\n    <tr>\n      <th>2020-07-18</th>\n      <td>-0.082896</td>\n      <td>-1.683613</td>\n      <td>0.514773</td>\n      <td>0.340943</td>\n    </tr>\n    <tr>\n      <th>2020-07-19</th>\n      <td>-0.772733</td>\n      <td>0.109153</td>\n      <td>-0.762324</td>\n      <td>-0.490873</td>\n    </tr>\n    <tr>\n      <th>2020-07-20</th>\n      <td>0.179611</td>\n      <td>1.688874</td>\n      <td>0.255209</td>\n      <td>-0.925943</td>\n    </tr>\n    <tr>\n      <th>2020-07-21</th>\n      <td>0.043059</td>\n      <td>-0.048799</td>\n      <td>-1.246318</td>\n      <td>-1.067498</td>\n    </tr>\n    <tr>\n      <th>2020-07-22</th>\n      <td>0.211234</td>\n      <td>-0.862456</td>\n      <td>0.072104</td>\n      <td>1.708782</td>\n    </tr>\n    <tr>\n      <th>2020-07-23</th>\n      <td>-0.413367</td>\n      <td>1.172319</td>\n      <td>-1.118971</td>\n      <td>-0.836292</td>\n    </tr>\n  </tbody>\n</table>\n</div>"
     },
     "metadata": {},
     "execution_count": 47
    }
   ],
   "source": [
    "df.sort_index(axis=1,ascending=True)"
   ]
  },
  {
   "cell_type": "code",
   "execution_count": 48,
   "metadata": {},
   "outputs": [
    {
     "output_type": "execute_result",
     "data": {
      "text/plain": "                   A         B         C         D\n2020-07-18 -0.082896 -1.683613  0.514773  0.340943\n2020-07-22  0.211234 -0.862456  0.072104  1.708782\n2020-07-21  0.043059 -0.048799 -1.246318 -1.067498\n2020-07-19 -0.772733  0.109153 -0.762324 -0.490873\n2020-07-23 -0.413367  1.172319 -1.118971 -0.836292\n2020-07-20  0.179611  1.688874  0.255209 -0.925943",
      "text/html": "<div>\n<style scoped>\n    .dataframe tbody tr th:only-of-type {\n        vertical-align: middle;\n    }\n\n    .dataframe tbody tr th {\n        vertical-align: top;\n    }\n\n    .dataframe thead th {\n        text-align: right;\n    }\n</style>\n<table border=\"1\" class=\"dataframe\">\n  <thead>\n    <tr style=\"text-align: right;\">\n      <th></th>\n      <th>A</th>\n      <th>B</th>\n      <th>C</th>\n      <th>D</th>\n    </tr>\n  </thead>\n  <tbody>\n    <tr>\n      <th>2020-07-18</th>\n      <td>-0.082896</td>\n      <td>-1.683613</td>\n      <td>0.514773</td>\n      <td>0.340943</td>\n    </tr>\n    <tr>\n      <th>2020-07-22</th>\n      <td>0.211234</td>\n      <td>-0.862456</td>\n      <td>0.072104</td>\n      <td>1.708782</td>\n    </tr>\n    <tr>\n      <th>2020-07-21</th>\n      <td>0.043059</td>\n      <td>-0.048799</td>\n      <td>-1.246318</td>\n      <td>-1.067498</td>\n    </tr>\n    <tr>\n      <th>2020-07-19</th>\n      <td>-0.772733</td>\n      <td>0.109153</td>\n      <td>-0.762324</td>\n      <td>-0.490873</td>\n    </tr>\n    <tr>\n      <th>2020-07-23</th>\n      <td>-0.413367</td>\n      <td>1.172319</td>\n      <td>-1.118971</td>\n      <td>-0.836292</td>\n    </tr>\n    <tr>\n      <th>2020-07-20</th>\n      <td>0.179611</td>\n      <td>1.688874</td>\n      <td>0.255209</td>\n      <td>-0.925943</td>\n    </tr>\n  </tbody>\n</table>\n</div>"
     },
     "metadata": {},
     "execution_count": 48
    }
   ],
   "source": [
    "df.sort_values(by='B')"
   ]
  },
  {
   "cell_type": "code",
   "execution_count": 50,
   "metadata": {},
   "outputs": [
    {
     "output_type": "execute_result",
     "data": {
      "text/plain": "2020-07-18   -0.082896\n2020-07-19   -0.772733\n2020-07-20    0.179611\n2020-07-21    0.043059\n2020-07-22    0.211234\n2020-07-23   -0.413367\nFreq: D, Name: A, dtype: float64"
     },
     "metadata": {},
     "execution_count": 50
    }
   ],
   "source": [
    "df['A']"
   ]
  },
  {
   "cell_type": "code",
   "execution_count": 51,
   "metadata": {},
   "outputs": [
    {
     "output_type": "execute_result",
     "data": {
      "text/plain": "                   A         B         C         D\n2020-07-18 -0.082896 -1.683613  0.514773  0.340943\n2020-07-19 -0.772733  0.109153 -0.762324 -0.490873\n2020-07-20  0.179611  1.688874  0.255209 -0.925943",
      "text/html": "<div>\n<style scoped>\n    .dataframe tbody tr th:only-of-type {\n        vertical-align: middle;\n    }\n\n    .dataframe tbody tr th {\n        vertical-align: top;\n    }\n\n    .dataframe thead th {\n        text-align: right;\n    }\n</style>\n<table border=\"1\" class=\"dataframe\">\n  <thead>\n    <tr style=\"text-align: right;\">\n      <th></th>\n      <th>A</th>\n      <th>B</th>\n      <th>C</th>\n      <th>D</th>\n    </tr>\n  </thead>\n  <tbody>\n    <tr>\n      <th>2020-07-18</th>\n      <td>-0.082896</td>\n      <td>-1.683613</td>\n      <td>0.514773</td>\n      <td>0.340943</td>\n    </tr>\n    <tr>\n      <th>2020-07-19</th>\n      <td>-0.772733</td>\n      <td>0.109153</td>\n      <td>-0.762324</td>\n      <td>-0.490873</td>\n    </tr>\n    <tr>\n      <th>2020-07-20</th>\n      <td>0.179611</td>\n      <td>1.688874</td>\n      <td>0.255209</td>\n      <td>-0.925943</td>\n    </tr>\n  </tbody>\n</table>\n</div>"
     },
     "metadata": {},
     "execution_count": 51
    }
   ],
   "source": [
    "df[0:3]"
   ]
  },
  {
   "cell_type": "code",
   "execution_count": 52,
   "metadata": {},
   "outputs": [
    {
     "output_type": "execute_result",
     "data": {
      "text/plain": "                   A         B         C         D\n2020-07-18 -0.082896 -1.683613  0.514773  0.340943\n2020-07-19 -0.772733  0.109153 -0.762324 -0.490873\n2020-07-20  0.179611  1.688874  0.255209 -0.925943",
      "text/html": "<div>\n<style scoped>\n    .dataframe tbody tr th:only-of-type {\n        vertical-align: middle;\n    }\n\n    .dataframe tbody tr th {\n        vertical-align: top;\n    }\n\n    .dataframe thead th {\n        text-align: right;\n    }\n</style>\n<table border=\"1\" class=\"dataframe\">\n  <thead>\n    <tr style=\"text-align: right;\">\n      <th></th>\n      <th>A</th>\n      <th>B</th>\n      <th>C</th>\n      <th>D</th>\n    </tr>\n  </thead>\n  <tbody>\n    <tr>\n      <th>2020-07-18</th>\n      <td>-0.082896</td>\n      <td>-1.683613</td>\n      <td>0.514773</td>\n      <td>0.340943</td>\n    </tr>\n    <tr>\n      <th>2020-07-19</th>\n      <td>-0.772733</td>\n      <td>0.109153</td>\n      <td>-0.762324</td>\n      <td>-0.490873</td>\n    </tr>\n    <tr>\n      <th>2020-07-20</th>\n      <td>0.179611</td>\n      <td>1.688874</td>\n      <td>0.255209</td>\n      <td>-0.925943</td>\n    </tr>\n  </tbody>\n</table>\n</div>"
     },
     "metadata": {},
     "execution_count": 52
    }
   ],
   "source": [
    "df[\"20200718\":\"20200720\"]"
   ]
  },
  {
   "cell_type": "code",
   "execution_count": 53,
   "metadata": {},
   "outputs": [
    {
     "output_type": "execute_result",
     "data": {
      "text/plain": "A   -0.082896\nB   -1.683613\nC    0.514773\nD    0.340943\nName: 2020-07-18 00:00:00, dtype: float64"
     },
     "metadata": {},
     "execution_count": 53
    }
   ],
   "source": [
    "df.loc[dates[0]]"
   ]
  },
  {
   "cell_type": "code",
   "execution_count": 54,
   "metadata": {},
   "outputs": [
    {
     "output_type": "execute_result",
     "data": {
      "text/plain": "                   A         B\n2020-07-18 -0.082896 -1.683613\n2020-07-19 -0.772733  0.109153\n2020-07-20  0.179611  1.688874\n2020-07-21  0.043059 -0.048799\n2020-07-22  0.211234 -0.862456\n2020-07-23 -0.413367  1.172319",
      "text/html": "<div>\n<style scoped>\n    .dataframe tbody tr th:only-of-type {\n        vertical-align: middle;\n    }\n\n    .dataframe tbody tr th {\n        vertical-align: top;\n    }\n\n    .dataframe thead th {\n        text-align: right;\n    }\n</style>\n<table border=\"1\" class=\"dataframe\">\n  <thead>\n    <tr style=\"text-align: right;\">\n      <th></th>\n      <th>A</th>\n      <th>B</th>\n    </tr>\n  </thead>\n  <tbody>\n    <tr>\n      <th>2020-07-18</th>\n      <td>-0.082896</td>\n      <td>-1.683613</td>\n    </tr>\n    <tr>\n      <th>2020-07-19</th>\n      <td>-0.772733</td>\n      <td>0.109153</td>\n    </tr>\n    <tr>\n      <th>2020-07-20</th>\n      <td>0.179611</td>\n      <td>1.688874</td>\n    </tr>\n    <tr>\n      <th>2020-07-21</th>\n      <td>0.043059</td>\n      <td>-0.048799</td>\n    </tr>\n    <tr>\n      <th>2020-07-22</th>\n      <td>0.211234</td>\n      <td>-0.862456</td>\n    </tr>\n    <tr>\n      <th>2020-07-23</th>\n      <td>-0.413367</td>\n      <td>1.172319</td>\n    </tr>\n  </tbody>\n</table>\n</div>"
     },
     "metadata": {},
     "execution_count": 54
    }
   ],
   "source": [
    "df.loc[:,['A','B']]"
   ]
  },
  {
   "cell_type": "code",
   "execution_count": 55,
   "metadata": {},
   "outputs": [
    {
     "output_type": "execute_result",
     "data": {
      "text/plain": "                   B         C\n2020-07-18 -1.683613  0.514773\n2020-07-19  0.109153 -0.762324\n2020-07-20  1.688874  0.255209\n2020-07-21 -0.048799 -1.246318\n2020-07-22 -0.862456  0.072104",
      "text/html": "<div>\n<style scoped>\n    .dataframe tbody tr th:only-of-type {\n        vertical-align: middle;\n    }\n\n    .dataframe tbody tr th {\n        vertical-align: top;\n    }\n\n    .dataframe thead th {\n        text-align: right;\n    }\n</style>\n<table border=\"1\" class=\"dataframe\">\n  <thead>\n    <tr style=\"text-align: right;\">\n      <th></th>\n      <th>B</th>\n      <th>C</th>\n    </tr>\n  </thead>\n  <tbody>\n    <tr>\n      <th>2020-07-18</th>\n      <td>-1.683613</td>\n      <td>0.514773</td>\n    </tr>\n    <tr>\n      <th>2020-07-19</th>\n      <td>0.109153</td>\n      <td>-0.762324</td>\n    </tr>\n    <tr>\n      <th>2020-07-20</th>\n      <td>1.688874</td>\n      <td>0.255209</td>\n    </tr>\n    <tr>\n      <th>2020-07-21</th>\n      <td>-0.048799</td>\n      <td>-1.246318</td>\n    </tr>\n    <tr>\n      <th>2020-07-22</th>\n      <td>-0.862456</td>\n      <td>0.072104</td>\n    </tr>\n  </tbody>\n</table>\n</div>"
     },
     "metadata": {},
     "execution_count": 55
    }
   ],
   "source": [
    "df.loc['20200718':'20200722',['B','C']]"
   ]
  },
  {
   "cell_type": "code",
   "execution_count": 57,
   "metadata": {},
   "outputs": [
    {
     "output_type": "execute_result",
     "data": {
      "text/plain": "A    0.211234\nB   -0.862456\nName: 2020-07-22 00:00:00, dtype: float64"
     },
     "metadata": {},
     "execution_count": 57
    }
   ],
   "source": [
    "df.loc['20200722',['A','B']]"
   ]
  },
  {
   "cell_type": "code",
   "execution_count": 58,
   "metadata": {},
   "outputs": [
    {
     "output_type": "execute_result",
     "data": {
      "text/plain": "A   -0.082896\nB   -1.683613\nName: 2020-07-18 00:00:00, dtype: float64"
     },
     "metadata": {},
     "execution_count": 58
    }
   ],
   "source": [
    "df.loc[dates[0],['A','B']]\n"
   ]
  },
  {
   "cell_type": "code",
   "execution_count": 60,
   "metadata": {},
   "outputs": [
    {
     "output_type": "execute_result",
     "data": {
      "text/plain": "-0.08289557771470023"
     },
     "metadata": {},
     "execution_count": 60
    }
   ],
   "source": [
    "# 仅支持单元素\n",
    "df.at[dates[0],'A']"
   ]
  },
  {
   "cell_type": "code",
   "execution_count": 61,
   "metadata": {},
   "outputs": [
    {
     "output_type": "execute_result",
     "data": {
      "text/plain": "A    0.043059\nB   -0.048799\nC   -1.246318\nD   -1.067498\nName: 2020-07-21 00:00:00, dtype: float64"
     },
     "metadata": {},
     "execution_count": 61
    }
   ],
   "source": [
    "df.iloc[3]"
   ]
  },
  {
   "cell_type": "code",
   "execution_count": 62,
   "metadata": {},
   "outputs": [
    {
     "output_type": "execute_result",
     "data": {
      "text/plain": "                   A         B\n2020-07-21  0.043059 -0.048799\n2020-07-22  0.211234 -0.862456",
      "text/html": "<div>\n<style scoped>\n    .dataframe tbody tr th:only-of-type {\n        vertical-align: middle;\n    }\n\n    .dataframe tbody tr th {\n        vertical-align: top;\n    }\n\n    .dataframe thead th {\n        text-align: right;\n    }\n</style>\n<table border=\"1\" class=\"dataframe\">\n  <thead>\n    <tr style=\"text-align: right;\">\n      <th></th>\n      <th>A</th>\n      <th>B</th>\n    </tr>\n  </thead>\n  <tbody>\n    <tr>\n      <th>2020-07-21</th>\n      <td>0.043059</td>\n      <td>-0.048799</td>\n    </tr>\n    <tr>\n      <th>2020-07-22</th>\n      <td>0.211234</td>\n      <td>-0.862456</td>\n    </tr>\n  </tbody>\n</table>\n</div>"
     },
     "metadata": {},
     "execution_count": 62
    }
   ],
   "source": [
    "df.iloc[3:5,0:2]"
   ]
  },
  {
   "cell_type": "code",
   "execution_count": 67,
   "metadata": {},
   "outputs": [
    {
     "output_type": "execute_result",
     "data": {
      "text/plain": "                   A         C\n2020-07-19 -0.772733 -0.762324\n2020-07-20  0.179611  0.255209\n2020-07-22  0.211234  0.072104",
      "text/html": "<div>\n<style scoped>\n    .dataframe tbody tr th:only-of-type {\n        vertical-align: middle;\n    }\n\n    .dataframe tbody tr th {\n        vertical-align: top;\n    }\n\n    .dataframe thead th {\n        text-align: right;\n    }\n</style>\n<table border=\"1\" class=\"dataframe\">\n  <thead>\n    <tr style=\"text-align: right;\">\n      <th></th>\n      <th>A</th>\n      <th>C</th>\n    </tr>\n  </thead>\n  <tbody>\n    <tr>\n      <th>2020-07-19</th>\n      <td>-0.772733</td>\n      <td>-0.762324</td>\n    </tr>\n    <tr>\n      <th>2020-07-20</th>\n      <td>0.179611</td>\n      <td>0.255209</td>\n    </tr>\n    <tr>\n      <th>2020-07-22</th>\n      <td>0.211234</td>\n      <td>0.072104</td>\n    </tr>\n  </tbody>\n</table>\n</div>"
     },
     "metadata": {},
     "execution_count": 67
    }
   ],
   "source": [
    "df.iloc[[1,2,4],[0,2]]"
   ]
  },
  {
   "cell_type": "code",
   "execution_count": 70,
   "metadata": {},
   "outputs": [
    {
     "output_type": "execute_result",
     "data": {
      "text/plain": "                   A         B         C         D\n2020-07-19 -0.772733  0.109153 -0.762324 -0.490873\n2020-07-20  0.179611  1.688874  0.255209 -0.925943\n2020-07-22  0.211234 -0.862456  0.072104  1.708782",
      "text/html": "<div>\n<style scoped>\n    .dataframe tbody tr th:only-of-type {\n        vertical-align: middle;\n    }\n\n    .dataframe tbody tr th {\n        vertical-align: top;\n    }\n\n    .dataframe thead th {\n        text-align: right;\n    }\n</style>\n<table border=\"1\" class=\"dataframe\">\n  <thead>\n    <tr style=\"text-align: right;\">\n      <th></th>\n      <th>A</th>\n      <th>B</th>\n      <th>C</th>\n      <th>D</th>\n    </tr>\n  </thead>\n  <tbody>\n    <tr>\n      <th>2020-07-19</th>\n      <td>-0.772733</td>\n      <td>0.109153</td>\n      <td>-0.762324</td>\n      <td>-0.490873</td>\n    </tr>\n    <tr>\n      <th>2020-07-20</th>\n      <td>0.179611</td>\n      <td>1.688874</td>\n      <td>0.255209</td>\n      <td>-0.925943</td>\n    </tr>\n    <tr>\n      <th>2020-07-22</th>\n      <td>0.211234</td>\n      <td>-0.862456</td>\n      <td>0.072104</td>\n      <td>1.708782</td>\n    </tr>\n  </tbody>\n</table>\n</div>"
     },
     "metadata": {},
     "execution_count": 70
    }
   ],
   "source": [
    "df.iloc[[1,2,4],:]"
   ]
  },
  {
   "cell_type": "code",
   "execution_count": 72,
   "metadata": {},
   "outputs": [
    {
     "output_type": "execute_result",
     "data": {
      "text/plain": "                   B         C\n2020-07-18 -1.683613  0.514773\n2020-07-19  0.109153 -0.762324\n2020-07-20  1.688874  0.255209\n2020-07-21 -0.048799 -1.246318\n2020-07-22 -0.862456  0.072104\n2020-07-23  1.172319 -1.118971",
      "text/html": "<div>\n<style scoped>\n    .dataframe tbody tr th:only-of-type {\n        vertical-align: middle;\n    }\n\n    .dataframe tbody tr th {\n        vertical-align: top;\n    }\n\n    .dataframe thead th {\n        text-align: right;\n    }\n</style>\n<table border=\"1\" class=\"dataframe\">\n  <thead>\n    <tr style=\"text-align: right;\">\n      <th></th>\n      <th>B</th>\n      <th>C</th>\n    </tr>\n  </thead>\n  <tbody>\n    <tr>\n      <th>2020-07-18</th>\n      <td>-1.683613</td>\n      <td>0.514773</td>\n    </tr>\n    <tr>\n      <th>2020-07-19</th>\n      <td>0.109153</td>\n      <td>-0.762324</td>\n    </tr>\n    <tr>\n      <th>2020-07-20</th>\n      <td>1.688874</td>\n      <td>0.255209</td>\n    </tr>\n    <tr>\n      <th>2020-07-21</th>\n      <td>-0.048799</td>\n      <td>-1.246318</td>\n    </tr>\n    <tr>\n      <th>2020-07-22</th>\n      <td>-0.862456</td>\n      <td>0.072104</td>\n    </tr>\n    <tr>\n      <th>2020-07-23</th>\n      <td>1.172319</td>\n      <td>-1.118971</td>\n    </tr>\n  </tbody>\n</table>\n</div>"
     },
     "metadata": {},
     "execution_count": 72
    }
   ],
   "source": [
    "df.iloc[:,[1,2]]"
   ]
  },
  {
   "cell_type": "code",
   "execution_count": 73,
   "metadata": {},
   "outputs": [
    {
     "output_type": "execute_result",
     "data": {
      "text/plain": "                   A         B         C         D\n2020-07-20  0.179611  1.688874  0.255209 -0.925943\n2020-07-21  0.043059 -0.048799 -1.246318 -1.067498\n2020-07-22  0.211234 -0.862456  0.072104  1.708782",
      "text/html": "<div>\n<style scoped>\n    .dataframe tbody tr th:only-of-type {\n        vertical-align: middle;\n    }\n\n    .dataframe tbody tr th {\n        vertical-align: top;\n    }\n\n    .dataframe thead th {\n        text-align: right;\n    }\n</style>\n<table border=\"1\" class=\"dataframe\">\n  <thead>\n    <tr style=\"text-align: right;\">\n      <th></th>\n      <th>A</th>\n      <th>B</th>\n      <th>C</th>\n      <th>D</th>\n    </tr>\n  </thead>\n  <tbody>\n    <tr>\n      <th>2020-07-20</th>\n      <td>0.179611</td>\n      <td>1.688874</td>\n      <td>0.255209</td>\n      <td>-0.925943</td>\n    </tr>\n    <tr>\n      <th>2020-07-21</th>\n      <td>0.043059</td>\n      <td>-0.048799</td>\n      <td>-1.246318</td>\n      <td>-1.067498</td>\n    </tr>\n    <tr>\n      <th>2020-07-22</th>\n      <td>0.211234</td>\n      <td>-0.862456</td>\n      <td>0.072104</td>\n      <td>1.708782</td>\n    </tr>\n  </tbody>\n</table>\n</div>"
     },
     "metadata": {},
     "execution_count": 73
    }
   ],
   "source": [
    "df[df.A>0]"
   ]
  },
  {
   "cell_type": "code",
   "execution_count": 74,
   "metadata": {},
   "outputs": [
    {
     "output_type": "execute_result",
     "data": {
      "text/plain": "                   A         B         C         D\n2020-07-18       NaN       NaN  0.514773  0.340943\n2020-07-19       NaN  0.109153       NaN       NaN\n2020-07-20  0.179611  1.688874  0.255209       NaN\n2020-07-21  0.043059       NaN       NaN       NaN\n2020-07-22  0.211234       NaN  0.072104  1.708782\n2020-07-23       NaN  1.172319       NaN       NaN",
      "text/html": "<div>\n<style scoped>\n    .dataframe tbody tr th:only-of-type {\n        vertical-align: middle;\n    }\n\n    .dataframe tbody tr th {\n        vertical-align: top;\n    }\n\n    .dataframe thead th {\n        text-align: right;\n    }\n</style>\n<table border=\"1\" class=\"dataframe\">\n  <thead>\n    <tr style=\"text-align: right;\">\n      <th></th>\n      <th>A</th>\n      <th>B</th>\n      <th>C</th>\n      <th>D</th>\n    </tr>\n  </thead>\n  <tbody>\n    <tr>\n      <th>2020-07-18</th>\n      <td>NaN</td>\n      <td>NaN</td>\n      <td>0.514773</td>\n      <td>0.340943</td>\n    </tr>\n    <tr>\n      <th>2020-07-19</th>\n      <td>NaN</td>\n      <td>0.109153</td>\n      <td>NaN</td>\n      <td>NaN</td>\n    </tr>\n    <tr>\n      <th>2020-07-20</th>\n      <td>0.179611</td>\n      <td>1.688874</td>\n      <td>0.255209</td>\n      <td>NaN</td>\n    </tr>\n    <tr>\n      <th>2020-07-21</th>\n      <td>0.043059</td>\n      <td>NaN</td>\n      <td>NaN</td>\n      <td>NaN</td>\n    </tr>\n    <tr>\n      <th>2020-07-22</th>\n      <td>0.211234</td>\n      <td>NaN</td>\n      <td>0.072104</td>\n      <td>1.708782</td>\n    </tr>\n    <tr>\n      <th>2020-07-23</th>\n      <td>NaN</td>\n      <td>1.172319</td>\n      <td>NaN</td>\n      <td>NaN</td>\n    </tr>\n  </tbody>\n</table>\n</div>"
     },
     "metadata": {},
     "execution_count": 74
    }
   ],
   "source": [
    "df[df>0]"
   ]
  },
  {
   "cell_type": "code",
   "execution_count": null,
   "metadata": {},
   "outputs": [],
   "source": []
  }
 ]
}