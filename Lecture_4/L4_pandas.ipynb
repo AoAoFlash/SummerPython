{
 "cells": [
  {
   "cell_type": "code",
   "execution_count": 83,
   "metadata": {},
   "outputs": [
    {
     "output_type": "execute_result",
     "data": {
      "text/plain": "'1.0.3'"
     },
     "metadata": {},
     "execution_count": 83
    }
   ],
   "source": [
    "import numpy as np\n",
    "import pandas as pd\n",
    "pd.__version__"
   ]
  },
  {
   "cell_type": "code",
   "execution_count": 98,
   "metadata": {},
   "outputs": [
    {
     "output_type": "execute_result",
     "data": {
      "text/plain": "0    军训\n1    思修\n2    史纲\n3    马原\n4    毛概\ndtype: object"
     },
     "metadata": {},
     "execution_count": 98
    }
   ],
   "source": [
    "# 构造Series\n",
    "s = pd.Series([\"军训\", \"思修\", \"史纲\", \"马原\", \"毛概\"])\n",
    "# s = pd.Series([\"军训\", \"思修\", \"史纲\", \"马原\", \"毛概\"],name = \"subject\")\n",
    "s\n"
   ]
  },
  {
   "cell_type": "code",
   "execution_count": 96,
   "metadata": {},
   "outputs": [
    {
     "output_type": "execute_result",
     "data": {
      "text/plain": "   score\n0     88\n1     89\n2     90\n3     91\n4     92",
      "text/html": "<div>\n<style scoped>\n    .dataframe tbody tr th:only-of-type {\n        vertical-align: middle;\n    }\n\n    .dataframe tbody tr th {\n        vertical-align: top;\n    }\n\n    .dataframe thead th {\n        text-align: right;\n    }\n</style>\n<table border=\"1\" class=\"dataframe\">\n  <thead>\n    <tr style=\"text-align: right;\">\n      <th></th>\n      <th>score</th>\n    </tr>\n  </thead>\n  <tbody>\n    <tr>\n      <th>0</th>\n      <td>88</td>\n    </tr>\n    <tr>\n      <th>1</th>\n      <td>89</td>\n    </tr>\n    <tr>\n      <th>2</th>\n      <td>90</td>\n    </tr>\n    <tr>\n      <th>3</th>\n      <td>91</td>\n    </tr>\n    <tr>\n      <th>4</th>\n      <td>92</td>\n    </tr>\n  </tbody>\n</table>\n</div>"
     },
     "metadata": {},
     "execution_count": 96
    }
   ],
   "source": [
    "# 把Series组合成DataFrame\n",
    "s2=pd.Series([88, 89, 90, 91, 92],name = 'score')\n",
    "s2.to_frame()\n"
   ]
  },
  {
   "cell_type": "code",
   "execution_count": 118,
   "metadata": {},
   "outputs": [
    {
     "output_type": "execute_result",
     "data": {
      "text/plain": "  subject  绩点  year\n0      军训  88  2018\n1      思修  89  2019\n2      史纲  90  2019\n3      马原  91  2020\n4      毛概  92  2020",
      "text/html": "<div>\n<style scoped>\n    .dataframe tbody tr th:only-of-type {\n        vertical-align: middle;\n    }\n\n    .dataframe tbody tr th {\n        vertical-align: top;\n    }\n\n    .dataframe thead th {\n        text-align: right;\n    }\n</style>\n<table border=\"1\" class=\"dataframe\">\n  <thead>\n    <tr style=\"text-align: right;\">\n      <th></th>\n      <th>subject</th>\n      <th>绩点</th>\n      <th>year</th>\n    </tr>\n  </thead>\n  <tbody>\n    <tr>\n      <th>0</th>\n      <td>军训</td>\n      <td>88</td>\n      <td>2018</td>\n    </tr>\n    <tr>\n      <th>1</th>\n      <td>思修</td>\n      <td>89</td>\n      <td>2019</td>\n    </tr>\n    <tr>\n      <th>2</th>\n      <td>史纲</td>\n      <td>90</td>\n      <td>2019</td>\n    </tr>\n    <tr>\n      <th>3</th>\n      <td>马原</td>\n      <td>91</td>\n      <td>2020</td>\n    </tr>\n    <tr>\n      <th>4</th>\n      <td>毛概</td>\n      <td>92</td>\n      <td>2020</td>\n    </tr>\n  </tbody>\n</table>\n</div>"
     },
     "metadata": {},
     "execution_count": 118
    }
   ],
   "source": [
    "# 从“等长列表组成的字典”构造DataFrame\n",
    "data = {\n",
    "    \"subject\": [\"军训\", \"思修\", \"史纲\", \"马原\", \"毛概\"],\n",
    "    \"绩点\": [88, 89, 90, 91, 92],\n",
    "    \"year\": [2018, 2019, 2019, 2020, 2020],\n",
    "}\n",
    "df = pd.DataFrame(data)\n",
    "df"
   ]
  },
  {
   "cell_type": "code",
   "execution_count": 119,
   "metadata": {},
   "outputs": [
    {
     "output_type": "execute_result",
     "data": {
      "text/plain": "  subject  score  year\n0      军训     88  2018\n1      思修     89  2019\n2      史纲     90  2019\n3      马原     91  2020\n4      毛概     92  2020",
      "text/html": "<div>\n<style scoped>\n    .dataframe tbody tr th:only-of-type {\n        vertical-align: middle;\n    }\n\n    .dataframe tbody tr th {\n        vertical-align: top;\n    }\n\n    .dataframe thead th {\n        text-align: right;\n    }\n</style>\n<table border=\"1\" class=\"dataframe\">\n  <thead>\n    <tr style=\"text-align: right;\">\n      <th></th>\n      <th>subject</th>\n      <th>score</th>\n      <th>year</th>\n    </tr>\n  </thead>\n  <tbody>\n    <tr>\n      <th>0</th>\n      <td>军训</td>\n      <td>88</td>\n      <td>2018</td>\n    </tr>\n    <tr>\n      <th>1</th>\n      <td>思修</td>\n      <td>89</td>\n      <td>2019</td>\n    </tr>\n    <tr>\n      <th>2</th>\n      <td>史纲</td>\n      <td>90</td>\n      <td>2019</td>\n    </tr>\n    <tr>\n      <th>3</th>\n      <td>马原</td>\n      <td>91</td>\n      <td>2020</td>\n    </tr>\n    <tr>\n      <th>4</th>\n      <td>毛概</td>\n      <td>92</td>\n      <td>2020</td>\n    </tr>\n  </tbody>\n</table>\n</div>"
     },
     "metadata": {},
     "execution_count": 119
    }
   ],
   "source": [
    "# 修改列名\n",
    "df.rename(columns={'绩点':'score'},inplace=True) \n",
    "df"
   ]
  },
  {
   "cell_type": "code",
   "execution_count": 120,
   "metadata": {},
   "outputs": [
    {
     "output_type": "execute_result",
     "data": {
      "text/plain": "  subject  score  year\n0      军训     88  2018\n1      思修     89  2019\n2      史纲     90  2019\n3      马原    100  2020\n4      毛概     92  2020",
      "text/html": "<div>\n<style scoped>\n    .dataframe tbody tr th:only-of-type {\n        vertical-align: middle;\n    }\n\n    .dataframe tbody tr th {\n        vertical-align: top;\n    }\n\n    .dataframe thead th {\n        text-align: right;\n    }\n</style>\n<table border=\"1\" class=\"dataframe\">\n  <thead>\n    <tr style=\"text-align: right;\">\n      <th></th>\n      <th>subject</th>\n      <th>score</th>\n      <th>year</th>\n    </tr>\n  </thead>\n  <tbody>\n    <tr>\n      <th>0</th>\n      <td>军训</td>\n      <td>88</td>\n      <td>2018</td>\n    </tr>\n    <tr>\n      <th>1</th>\n      <td>思修</td>\n      <td>89</td>\n      <td>2019</td>\n    </tr>\n    <tr>\n      <th>2</th>\n      <td>史纲</td>\n      <td>90</td>\n      <td>2019</td>\n    </tr>\n    <tr>\n      <th>3</th>\n      <td>马原</td>\n      <td>100</td>\n      <td>2020</td>\n    </tr>\n    <tr>\n      <th>4</th>\n      <td>毛概</td>\n      <td>92</td>\n      <td>2020</td>\n    </tr>\n  </tbody>\n</table>\n</div>"
     },
     "metadata": {},
     "execution_count": 120
    }
   ],
   "source": [
    "# 修改值\n",
    "df.loc[3,\"score\"]=100\n",
    "df"
   ]
  },
  {
   "cell_type": "code",
   "execution_count": 121,
   "metadata": {},
   "outputs": [
    {
     "output_type": "execute_result",
     "data": {
      "text/plain": "         subject  score  year\n12090043      军训     88  2018\n10610183      思修     89  2019\n10610193      史纲     90  2019\n10610204      马原    100  2020\n10610224      毛概     92  2020",
      "text/html": "<div>\n<style scoped>\n    .dataframe tbody tr th:only-of-type {\n        vertical-align: middle;\n    }\n\n    .dataframe tbody tr th {\n        vertical-align: top;\n    }\n\n    .dataframe thead th {\n        text-align: right;\n    }\n</style>\n<table border=\"1\" class=\"dataframe\">\n  <thead>\n    <tr style=\"text-align: right;\">\n      <th></th>\n      <th>subject</th>\n      <th>score</th>\n      <th>year</th>\n    </tr>\n  </thead>\n  <tbody>\n    <tr>\n      <th>12090043</th>\n      <td>军训</td>\n      <td>88</td>\n      <td>2018</td>\n    </tr>\n    <tr>\n      <th>10610183</th>\n      <td>思修</td>\n      <td>89</td>\n      <td>2019</td>\n    </tr>\n    <tr>\n      <th>10610193</th>\n      <td>史纲</td>\n      <td>90</td>\n      <td>2019</td>\n    </tr>\n    <tr>\n      <th>10610204</th>\n      <td>马原</td>\n      <td>100</td>\n      <td>2020</td>\n    </tr>\n    <tr>\n      <th>10610224</th>\n      <td>毛概</td>\n      <td>92</td>\n      <td>2020</td>\n    </tr>\n  </tbody>\n</table>\n</div>"
     },
     "metadata": {},
     "execution_count": 121
    }
   ],
   "source": [
    "# 修改索引\n",
    "df.index = [12090043,10610183,10610193,10610204,10610224]\n",
    "df"
   ]
  },
  {
   "cell_type": "code",
   "execution_count": 122,
   "metadata": {},
   "outputs": [
    {
     "output_type": "execute_result",
     "data": {
      "text/plain": "         subject  score    year\n12090043      军训   88.0  2018.0\n10610183      思修   89.0  2019.0\n10610193      史纲   90.0  2019.0\n10610204      马原  100.0  2020.0\n10610224      毛概   92.0  2020.0\n3            NaN  100.0     NaN",
      "text/html": "<div>\n<style scoped>\n    .dataframe tbody tr th:only-of-type {\n        vertical-align: middle;\n    }\n\n    .dataframe tbody tr th {\n        vertical-align: top;\n    }\n\n    .dataframe thead th {\n        text-align: right;\n    }\n</style>\n<table border=\"1\" class=\"dataframe\">\n  <thead>\n    <tr style=\"text-align: right;\">\n      <th></th>\n      <th>subject</th>\n      <th>score</th>\n      <th>year</th>\n    </tr>\n  </thead>\n  <tbody>\n    <tr>\n      <th>12090043</th>\n      <td>军训</td>\n      <td>88.0</td>\n      <td>2018.0</td>\n    </tr>\n    <tr>\n      <th>10610183</th>\n      <td>思修</td>\n      <td>89.0</td>\n      <td>2019.0</td>\n    </tr>\n    <tr>\n      <th>10610193</th>\n      <td>史纲</td>\n      <td>90.0</td>\n      <td>2019.0</td>\n    </tr>\n    <tr>\n      <th>10610204</th>\n      <td>马原</td>\n      <td>100.0</td>\n      <td>2020.0</td>\n    </tr>\n    <tr>\n      <th>10610224</th>\n      <td>毛概</td>\n      <td>92.0</td>\n      <td>2020.0</td>\n    </tr>\n    <tr>\n      <th>3</th>\n      <td>NaN</td>\n      <td>100.0</td>\n      <td>NaN</td>\n    </tr>\n  </tbody>\n</table>\n</div>"
     },
     "metadata": {},
     "execution_count": 122
    }
   ],
   "source": [
    "# 没有3这个索引值，所以会新建一行新的信息\n",
    "# 课程名和year没有赋值，显示为NaN，即缺失值\n",
    "df.loc[3,\"score\"]=100 \n",
    "df"
   ]
  },
  {
   "cell_type": "code",
   "execution_count": 123,
   "metadata": {},
   "outputs": [
    {
     "output_type": "execute_result",
     "data": {
      "text/plain": "            score        year\ncount    6.000000     5.00000\nmean    93.166667  2019.20000\nstd      5.455884     0.83666\nmin     88.000000  2018.00000\n25%     89.250000  2019.00000\n50%     91.000000  2019.00000\n75%     98.000000  2020.00000\nmax    100.000000  2020.00000",
      "text/html": "<div>\n<style scoped>\n    .dataframe tbody tr th:only-of-type {\n        vertical-align: middle;\n    }\n\n    .dataframe tbody tr th {\n        vertical-align: top;\n    }\n\n    .dataframe thead th {\n        text-align: right;\n    }\n</style>\n<table border=\"1\" class=\"dataframe\">\n  <thead>\n    <tr style=\"text-align: right;\">\n      <th></th>\n      <th>score</th>\n      <th>year</th>\n    </tr>\n  </thead>\n  <tbody>\n    <tr>\n      <th>count</th>\n      <td>6.000000</td>\n      <td>5.00000</td>\n    </tr>\n    <tr>\n      <th>mean</th>\n      <td>93.166667</td>\n      <td>2019.20000</td>\n    </tr>\n    <tr>\n      <th>std</th>\n      <td>5.455884</td>\n      <td>0.83666</td>\n    </tr>\n    <tr>\n      <th>min</th>\n      <td>88.000000</td>\n      <td>2018.00000</td>\n    </tr>\n    <tr>\n      <th>25%</th>\n      <td>89.250000</td>\n      <td>2019.00000</td>\n    </tr>\n    <tr>\n      <th>50%</th>\n      <td>91.000000</td>\n      <td>2019.00000</td>\n    </tr>\n    <tr>\n      <th>75%</th>\n      <td>98.000000</td>\n      <td>2020.00000</td>\n    </tr>\n    <tr>\n      <th>max</th>\n      <td>100.000000</td>\n      <td>2020.00000</td>\n    </tr>\n  </tbody>\n</table>\n</div>"
     },
     "metadata": {},
     "execution_count": 123
    }
   ],
   "source": [
    "# 快速查看数据的统计摘要（更精细的需要自己做）\n",
    "df.describe()"
   ]
  },
  {
   "cell_type": "code",
   "execution_count": 123,
   "metadata": {},
   "outputs": [],
   "source": [
    "\n"
   ]
  },
  {
   "cell_type": "code",
   "execution_count": 124,
   "metadata": {},
   "outputs": [
    {
     "output_type": "execute_result",
     "data": {
      "text/plain": "         subject  score    year  credit\n12090043      军训   88.0  2018.0       3\n10610183      思修   89.0  2019.0       3\n10610193      史纲   90.0  2019.0       4\n10610204      马原  100.0  2020.0       4\n10610224      毛概   92.0  2020.0       4",
      "text/html": "<div>\n<style scoped>\n    .dataframe tbody tr th:only-of-type {\n        vertical-align: middle;\n    }\n\n    .dataframe tbody tr th {\n        vertical-align: top;\n    }\n\n    .dataframe thead th {\n        text-align: right;\n    }\n</style>\n<table border=\"1\" class=\"dataframe\">\n  <thead>\n    <tr style=\"text-align: right;\">\n      <th></th>\n      <th>subject</th>\n      <th>score</th>\n      <th>year</th>\n      <th>credit</th>\n    </tr>\n  </thead>\n  <tbody>\n    <tr>\n      <th>12090043</th>\n      <td>军训</td>\n      <td>88.0</td>\n      <td>2018.0</td>\n      <td>3</td>\n    </tr>\n    <tr>\n      <th>10610183</th>\n      <td>思修</td>\n      <td>89.0</td>\n      <td>2019.0</td>\n      <td>3</td>\n    </tr>\n    <tr>\n      <th>10610193</th>\n      <td>史纲</td>\n      <td>90.0</td>\n      <td>2019.0</td>\n      <td>4</td>\n    </tr>\n    <tr>\n      <th>10610204</th>\n      <td>马原</td>\n      <td>100.0</td>\n      <td>2020.0</td>\n      <td>4</td>\n    </tr>\n    <tr>\n      <th>10610224</th>\n      <td>毛概</td>\n      <td>92.0</td>\n      <td>2020.0</td>\n      <td>4</td>\n    </tr>\n  </tbody>\n</table>\n</div>"
     },
     "metadata": {},
     "execution_count": 124
    }
   ],
   "source": [
    "df = df.drop(3)\n",
    "df['credit']=[3,3,4,4,4]\n",
    "df"
   ]
  },
  {
   "cell_type": "code",
   "execution_count": 125,
   "metadata": {},
   "outputs": [
    {
     "output_type": "execute_result",
     "data": {
      "text/plain": "         subject  score    year  credit  point\n12090043      军训   88.0  2018.0       3    3.6\n10610183      思修   89.0  2019.0       3    3.6\n10610193      史纲   90.0  2019.0       4    4.0\n10610204      马原  100.0  2020.0       4    4.0\n10610224      毛概   92.0  2020.0       4    4.0",
      "text/html": "<div>\n<style scoped>\n    .dataframe tbody tr th:only-of-type {\n        vertical-align: middle;\n    }\n\n    .dataframe tbody tr th {\n        vertical-align: top;\n    }\n\n    .dataframe thead th {\n        text-align: right;\n    }\n</style>\n<table border=\"1\" class=\"dataframe\">\n  <thead>\n    <tr style=\"text-align: right;\">\n      <th></th>\n      <th>subject</th>\n      <th>score</th>\n      <th>year</th>\n      <th>credit</th>\n      <th>point</th>\n    </tr>\n  </thead>\n  <tbody>\n    <tr>\n      <th>12090043</th>\n      <td>军训</td>\n      <td>88.0</td>\n      <td>2018.0</td>\n      <td>3</td>\n      <td>3.6</td>\n    </tr>\n    <tr>\n      <th>10610183</th>\n      <td>思修</td>\n      <td>89.0</td>\n      <td>2019.0</td>\n      <td>3</td>\n      <td>3.6</td>\n    </tr>\n    <tr>\n      <th>10610193</th>\n      <td>史纲</td>\n      <td>90.0</td>\n      <td>2019.0</td>\n      <td>4</td>\n      <td>4.0</td>\n    </tr>\n    <tr>\n      <th>10610204</th>\n      <td>马原</td>\n      <td>100.0</td>\n      <td>2020.0</td>\n      <td>4</td>\n      <td>4.0</td>\n    </tr>\n    <tr>\n      <th>10610224</th>\n      <td>毛概</td>\n      <td>92.0</td>\n      <td>2020.0</td>\n      <td>4</td>\n      <td>4.0</td>\n    </tr>\n  </tbody>\n</table>\n</div>"
     },
     "metadata": {},
     "execution_count": 125
    }
   ],
   "source": [
    "# 以90分为阈值转换绩点\n",
    "# 利用了lambda表达式\n",
    "df[\"point\"] = df['score'].apply(lambda x: 4.0 if x >=90 else 3.6)\n",
    "df"
   ]
  },
  {
   "cell_type": "code",
   "execution_count": 129,
   "metadata": {},
   "outputs": [
    {
     "output_type": "execute_result",
     "data": {
      "text/plain": "         subject  score    year  credit  point   sum\n10610204      马原  100.0  2020.0       4    4.0  16.0\n10610224      毛概   92.0  2020.0       4    4.0  16.0\n10610193      史纲   90.0  2019.0       4    4.0  16.0\n10610183      思修   89.0  2019.0       3    3.6  10.8\n12090043      军训   88.0  2018.0       3    3.6  10.8",
      "text/html": "<div>\n<style scoped>\n    .dataframe tbody tr th:only-of-type {\n        vertical-align: middle;\n    }\n\n    .dataframe tbody tr th {\n        vertical-align: top;\n    }\n\n    .dataframe thead th {\n        text-align: right;\n    }\n</style>\n<table border=\"1\" class=\"dataframe\">\n  <thead>\n    <tr style=\"text-align: right;\">\n      <th></th>\n      <th>subject</th>\n      <th>score</th>\n      <th>year</th>\n      <th>credit</th>\n      <th>point</th>\n      <th>sum</th>\n    </tr>\n  </thead>\n  <tbody>\n    <tr>\n      <th>10610204</th>\n      <td>马原</td>\n      <td>100.0</td>\n      <td>2020.0</td>\n      <td>4</td>\n      <td>4.0</td>\n      <td>16.0</td>\n    </tr>\n    <tr>\n      <th>10610224</th>\n      <td>毛概</td>\n      <td>92.0</td>\n      <td>2020.0</td>\n      <td>4</td>\n      <td>4.0</td>\n      <td>16.0</td>\n    </tr>\n    <tr>\n      <th>10610193</th>\n      <td>史纲</td>\n      <td>90.0</td>\n      <td>2019.0</td>\n      <td>4</td>\n      <td>4.0</td>\n      <td>16.0</td>\n    </tr>\n    <tr>\n      <th>10610183</th>\n      <td>思修</td>\n      <td>89.0</td>\n      <td>2019.0</td>\n      <td>3</td>\n      <td>3.6</td>\n      <td>10.8</td>\n    </tr>\n    <tr>\n      <th>12090043</th>\n      <td>军训</td>\n      <td>88.0</td>\n      <td>2018.0</td>\n      <td>3</td>\n      <td>3.6</td>\n      <td>10.8</td>\n    </tr>\n  </tbody>\n</table>\n</div>"
     },
     "metadata": {},
     "execution_count": 129
    }
   ],
   "source": [
    "# 排序\n",
    "df = df.sort_values(by=\"score\",ascending=False)\n",
    "df"
   ]
  },
  {
   "cell_type": "code",
   "execution_count": 130,
   "metadata": {},
   "outputs": [
    {
     "output_type": "execute_result",
     "data": {
      "text/plain": "         subject  score    year  credit  point   sum\n10610204      马原  100.0  2020.0       4    4.0  16.0\n10610224      毛概   92.0  2020.0       4    4.0  16.0\n10610193      史纲   90.0  2019.0       4    4.0  16.0\n10610183      思修   89.0  2019.0       3    3.6  10.8\n12090043      军训   88.0  2018.0       3    3.6  10.8",
      "text/html": "<div>\n<style scoped>\n    .dataframe tbody tr th:only-of-type {\n        vertical-align: middle;\n    }\n\n    .dataframe tbody tr th {\n        vertical-align: top;\n    }\n\n    .dataframe thead th {\n        text-align: right;\n    }\n</style>\n<table border=\"1\" class=\"dataframe\">\n  <thead>\n    <tr style=\"text-align: right;\">\n      <th></th>\n      <th>subject</th>\n      <th>score</th>\n      <th>year</th>\n      <th>credit</th>\n      <th>point</th>\n      <th>sum</th>\n    </tr>\n  </thead>\n  <tbody>\n    <tr>\n      <th>10610204</th>\n      <td>马原</td>\n      <td>100.0</td>\n      <td>2020.0</td>\n      <td>4</td>\n      <td>4.0</td>\n      <td>16.0</td>\n    </tr>\n    <tr>\n      <th>10610224</th>\n      <td>毛概</td>\n      <td>92.0</td>\n      <td>2020.0</td>\n      <td>4</td>\n      <td>4.0</td>\n      <td>16.0</td>\n    </tr>\n    <tr>\n      <th>10610193</th>\n      <td>史纲</td>\n      <td>90.0</td>\n      <td>2019.0</td>\n      <td>4</td>\n      <td>4.0</td>\n      <td>16.0</td>\n    </tr>\n    <tr>\n      <th>10610183</th>\n      <td>思修</td>\n      <td>89.0</td>\n      <td>2019.0</td>\n      <td>3</td>\n      <td>3.6</td>\n      <td>10.8</td>\n    </tr>\n    <tr>\n      <th>12090043</th>\n      <td>军训</td>\n      <td>88.0</td>\n      <td>2018.0</td>\n      <td>3</td>\n      <td>3.6</td>\n      <td>10.8</td>\n    </tr>\n  </tbody>\n</table>\n</div>"
     },
     "metadata": {},
     "execution_count": 130
    }
   ],
   "source": [
    "# 加权平均，计算GPA\n",
    "df[\"sum\"] = df[\"credit\"] * df[\"point\"]\n",
    "df"
   ]
  },
  {
   "cell_type": "code",
   "execution_count": 131,
   "metadata": {},
   "outputs": [
    {
     "output_type": "execute_result",
     "data": {
      "text/plain": "3.8666666666666663"
     },
     "metadata": {},
     "execution_count": 131
    }
   ],
   "source": [
    "GPA = df[\"sum\"].sum() / df[\"credit\"].sum()\n",
    "GPA"
   ]
  },
  {
   "cell_type": "code",
   "execution_count": 134,
   "metadata": {},
   "outputs": [
    {
     "output_type": "execute_result",
     "data": {
      "text/plain": "        score  point\nyear                \n2018.0   88.0    3.6\n2019.0   89.5    3.8\n2020.0   96.0    4.0",
      "text/html": "<div>\n<style scoped>\n    .dataframe tbody tr th:only-of-type {\n        vertical-align: middle;\n    }\n\n    .dataframe tbody tr th {\n        vertical-align: top;\n    }\n\n    .dataframe thead th {\n        text-align: right;\n    }\n</style>\n<table border=\"1\" class=\"dataframe\">\n  <thead>\n    <tr style=\"text-align: right;\">\n      <th></th>\n      <th>score</th>\n      <th>point</th>\n    </tr>\n    <tr>\n      <th>year</th>\n      <th></th>\n      <th></th>\n    </tr>\n  </thead>\n  <tbody>\n    <tr>\n      <th>2018.0</th>\n      <td>88.0</td>\n      <td>3.6</td>\n    </tr>\n    <tr>\n      <th>2019.0</th>\n      <td>89.5</td>\n      <td>3.8</td>\n    </tr>\n    <tr>\n      <th>2020.0</th>\n      <td>96.0</td>\n      <td>4.0</td>\n    </tr>\n  </tbody>\n</table>\n</div>"
     },
     "metadata": {},
     "execution_count": 134
    }
   ],
   "source": [
    "# 分组与聚合\n",
    "b = df.groupby('year')['score','point'].agg(np.mean)\n",
    "b"
   ]
  },
  {
   "cell_type": "code",
   "execution_count": null,
   "metadata": {},
   "outputs": [],
   "source": []
  }
 ],
 "metadata": {
  "language_info": {
   "codemirror_mode": {
    "name": "ipython",
    "version": 3
   },
   "file_extension": ".py",
   "mimetype": "text/x-python",
   "name": "python",
   "nbconvert_exporter": "python",
   "pygments_lexer": "ipython3",
   "version": 3
  },
  "orig_nbformat": 2,
  "kernelspec": {
   "name": "python_defaultSpec_1594887832944",
   "display_name": "Python 3.6.4 64-bit ('base': conda)"
  }
 },
 "nbformat": 4,
 "nbformat_minor": 2
}