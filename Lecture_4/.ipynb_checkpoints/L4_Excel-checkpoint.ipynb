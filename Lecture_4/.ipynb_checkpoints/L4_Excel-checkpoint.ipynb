{
 "cells": [
  {
   "cell_type": "code",
   "execution_count": 2,
   "metadata": {},
   "outputs": [
    {
     "data": {
      "text/plain": [
       "2"
      ]
     },
     "execution_count": 2,
     "metadata": {},
     "output_type": "execute_result"
    }
   ],
   "source": [
    "a = 2\n",
    "a"
   ]
  },
  {
   "cell_type": "code",
   "execution_count": 3,
   "metadata": {
    "scrolled": true
   },
   "outputs": [],
   "source": [
    "b = [\"THU\", \"PKU\", 1, 2, [886, 233]]"
   ]
  },
  {
   "cell_type": "code",
   "execution_count": 4,
   "metadata": {},
   "outputs": [
    {
     "data": {
      "text/plain": [
       "['THU', 'PKU', 1, 2, [886, 233]]"
      ]
     },
     "execution_count": 4,
     "metadata": {},
     "output_type": "execute_result"
    }
   ],
   "source": [
    "b"
   ]
  },
  {
   "cell_type": "code",
   "execution_count": 52,
   "metadata": {},
   "outputs": [],
   "source": [
    "# 若无法导入，则pip install xlwings\n",
    "import xlwings as xw"
   ]
  },
  {
   "cell_type": "code",
   "execution_count": 59,
   "metadata": {},
   "outputs": [],
   "source": [
    "\"\"\"\n",
    "新建一个表格应用\n",
    "visible：是否可见\n",
    "add_book：是否新建工作簿\n",
    "\"\"\"\n",
    "app = xw.App(visible=True, add_book=False)"
   ]
  },
  {
   "cell_type": "code",
   "execution_count": 60,
   "metadata": {
    "tags": []
   },
   "outputs": [],
   "source": [
    "# 打开工作表\n",
    "wb = app.books.open('社会实践报名表.xlsx')\n",
    "\n",
    "# 打开工作簿\n",
    "sht = wb.sheets[\"sheet1\"]"
   ]
  },
  {
   "cell_type": "code",
   "execution_count": 73,
   "metadata": {
    "tags": []
   },
   "outputs": [
    {
     "name": "stdout",
     "output_type": "stream",
     "text": [
      "<Range [社会实践报名表.xlsx]Sheet1!$A$1>\n",
      "目的地\n",
      "目的地\n",
      "[['目的地', '描述'], ['阿富汗', '第6公司']]\n",
      "[['目的地', '描述'], ['阿富汗', '第6公司']]\n"
     ]
    }
   ],
   "source": [
    "# 读取特定单元格\n",
    "print(sht.range(\"A1\"))\n",
    "print(sht.range(\"A1\").value) #读取值\n",
    "print(sht[\"A1\"].value)\n",
    "print(sht[\"A1:B2\"].value)\n",
    "print(sht[\"$A$1:$B$2\"].value)"
   ]
  },
  {
   "cell_type": "code",
   "execution_count": 83,
   "metadata": {
    "tags": []
   },
   "outputs": [
    {
     "data": {
      "text/plain": [
       "(19, 5)"
      ]
     },
     "execution_count": 83,
     "metadata": {},
     "output_type": "execute_result"
    }
   ],
   "source": [
    "sht.used_range.shape"
   ]
  },
  {
   "cell_type": "code",
   "execution_count": 84,
   "metadata": {
    "tags": []
   },
   "outputs": [],
   "source": [
    "# 直接赋值\n",
    "sht[\"A2\"].value = \"阿富汗\" #一一对应"
   ]
  },
  {
   "cell_type": "code",
   "execution_count": 86,
   "metadata": {
    "tags": []
   },
   "outputs": [
    {
     "name": "stdout",
     "output_type": "stream",
     "text": [
      "['阿富汗', '伊拉克', '约旦', '黎巴嫩', '以色列', '巴勒斯坦', '沙特阿拉伯', '巴林', '卡塔尔', '科威特', '阿拉伯联合酋长国', '阿曼', '也门', '格鲁吉亚', '亚美尼亚', '阿塞拜疆', '土耳其', '塞浦路斯']\n"
     ]
    }
   ],
   "source": [
    "countries = [\n",
    "    \"阿富汗\",\n",
    "    \"伊拉克\",\n",
    "    \"约旦\",\n",
    "    \"黎巴嫩\",\n",
    "    \"以色列\",\n",
    "    \"巴勒斯坦\",\n",
    "    \"沙特阿拉伯\",\n",
    "    \"巴林\",\n",
    "    \"卡塔尔\",\n",
    "    \"科威特\",\n",
    "    \"阿拉伯联合酋长国\",\n",
    "    \"阿曼\",\n",
    "    \"也门\",\n",
    "    \"格鲁吉亚\",\n",
    "    \"亚美尼亚\",\n",
    "    \"阿塞拜疆\",\n",
    "    \"土耳其\",\n",
    "    \"塞浦路斯\",\n",
    "]\n",
    "print(countries)"
   ]
  },
  {
   "cell_type": "code",
   "execution_count": 87,
   "metadata": {},
   "outputs": [],
   "source": [
    "# 默认按照行赋值\n",
    "sht[\"A2\"].value = countries"
   ]
  },
  {
   "cell_type": "code",
   "execution_count": 88,
   "metadata": {},
   "outputs": [],
   "source": [
    "# 范围赋值\n",
    "sht[\"B2:Z2\"].value = \"\" # 赋值为空字符串，即把上述行赋值清空"
   ]
  },
  {
   "cell_type": "code",
   "execution_count": 90,
   "metadata": {},
   "outputs": [],
   "source": [
    "# 按列赋值\n",
    "sht[\"A2\"].options(transpose=True).value = countries #加一句转置"
   ]
  },
  {
   "cell_type": "code",
   "execution_count": 91,
   "metadata": {},
   "outputs": [],
   "source": [
    "# 用随机数填充第二列\n",
    "import random\n",
    "description = [\"第\"+str(random.randint(2,8))+\"公司\" for x in range(20)]\n",
    "sht[\"B2\"].options(transpose=True).value = description[:len(countries)]"
   ]
  },
  {
   "cell_type": "code",
   "execution_count": 92,
   "metadata": {},
   "outputs": [],
   "source": [
    "# 随机选几个院系填充第三列\n",
    "depart_list = [\"电子\",\"自动化\",\"工物\",\"土木\",\"水利\",\"社科\",\"航院\"]\n",
    "\n",
    "depart = [depart_list[random.randint(0,len(depart_list))-1]for x in range(20)]\n",
    "sht[\"C2\"].options(transpose=True).value = depart[:len(countries)]"
   ]
  },
  {
   "cell_type": "code",
   "execution_count": 93,
   "metadata": {},
   "outputs": [],
   "source": [
    "# 随机选几个院系填充第四列\n",
    "depart = [random.randint(1,20) for x in range(20)]\n",
    "sht[\"D2\"].options(transpose=True).value = depart[:len(countries)]"
   ]
  },
  {
   "cell_type": "code",
   "execution_count": 94,
   "metadata": {},
   "outputs": [],
   "source": [
    "# 第五列\n",
    "plan = [random.choice([\"唱\",\"跳\",\"rap\",\"篮球\"]) for x in range(20)]\n",
    "sht[\"e2\"].options(transpose=True).value = plan[:len(countries)]"
   ]
  },
  {
   "cell_type": "markdown",
   "metadata": {},
   "source": [
    "## 关闭workbook 和 app"
   ]
  },
  {
   "cell_type": "code",
   "execution_count": 95,
   "metadata": {},
   "outputs": [],
   "source": [
    "# 使用结束一定要记得关闭 workbook、退出 app\n",
    "wb.save() #保存工作表\n",
    "wb.close() #关闭工作簿\n",
    "app.quit() #退出表格应用"
   ]
  },
  {
   "cell_type": "code",
   "execution_count": null,
   "metadata": {},
   "outputs": [],
   "source": []
  }
 ],
 "metadata": {
  "kernelspec": {
   "display_name": "Python 3",
   "language": "python",
   "name": "python3"
  },
  "language_info": {
   "codemirror_mode": {
    "name": "ipython",
    "version": 3
   },
   "file_extension": ".py",
   "mimetype": "text/x-python",
   "name": "python",
   "nbconvert_exporter": "python",
   "pygments_lexer": "ipython3",
   "version": "3.6.4"
  }
 },
 "nbformat": 4,
 "nbformat_minor": 2
}
