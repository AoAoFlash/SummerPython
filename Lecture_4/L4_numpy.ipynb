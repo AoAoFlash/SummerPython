{
 "cells": [
  {
   "cell_type": "code",
   "execution_count": 6,
   "metadata": {},
   "outputs": [],
   "source": [
    "import numpy as np"
   ]
  },
  {
   "cell_type": "markdown",
   "metadata": {},
   "source": [
    "## 1.创建ndarray\n",
    "直接从其他序列对象进行类型转换；特殊数组"
   ]
  },
  {
   "cell_type": "code",
   "execution_count": 36,
   "metadata": {},
   "outputs": [
    {
     "output_type": "execute_result",
     "data": {
      "text/plain": "array([ 1,  2,  3,  4,  5,  6,  7,  8,  9, 10])"
     },
     "metadata": {},
     "execution_count": 36
    }
   ],
   "source": [
    "data_array = np.array([1,2,3,4,5,6,7,8,9,10])\n",
    "data_array"
   ]
  },
  {
   "cell_type": "code",
   "execution_count": 21,
   "metadata": {},
   "outputs": [
    {
     "output_type": "execute_result",
     "data": {
      "text/plain": "array([[ 1,  2,  3,  4,  5,  6,  7,  8,  9, 10],\n       [ 1,  2,  3,  4,  5,  6,  7,  8,  9, 10]])"
     },
     "metadata": {},
     "execution_count": 21
    }
   ],
   "source": [
    "# 二维\n",
    "data_list = ([1,2,3,4,5,6,7,8,9,10],[1,2,3,4,5,6,7,8,9,10])\n",
    "data_array = np.array(data_list)\n",
    "data_array"
   ]
  },
  {
   "cell_type": "code",
   "execution_count": 25,
   "metadata": {
    "tags": []
   },
   "outputs": [
    {
     "output_type": "stream",
     "name": "stdout",
     "text": "2\n(2, 10)\nint32\n"
    }
   ],
   "source": [
    "# 查看ndarray的信息\n",
    "print(data_array.ndim)  #维度\n",
    "print(data_array.shape) #尺寸\n",
    "print(data_array.dtype) #元素数据类型"
   ]
  },
  {
   "cell_type": "code",
   "execution_count": 34,
   "metadata": {
    "tags": []
   },
   "outputs": [
    {
     "output_type": "stream",
     "name": "stdout",
     "text": "a = [0. 0. 0. 0. 0. 0. 0. 0. 0. 0.]\n\nb = [[1. 1. 1. 1.]\n [1. 1. 1. 1.]\n [1. 1. 1. 1.]]\n\nc = [[[1. 1. 1.]\n  [1. 1. 1.]\n  [1. 1. 1.]]\n\n [[1. 1. 1.]\n  [1. 1. 1.]\n  [1. 1. 1.]]]\n"
    }
   ],
   "source": [
    "# 创建特殊数组\n",
    "a = np.zeros(10)\n",
    "b = np.ones((3,4)) #创建多维数组，需要两层括号\n",
    "c = np.ones((2,3,3))\n",
    "print(\"a =\",a)\n",
    "print(\"\\nb =\",b)\n",
    "print(\"\\nc =\",c)"
   ]
  },
  {
   "cell_type": "code",
   "execution_count": 35,
   "metadata": {
    "tags": []
   },
   "outputs": [
    {
     "output_type": "stream",
     "name": "stdout",
     "text": "[ 0  1  2  3  4  5  6  7  8  9 10 11 12 13 14]\n0\n1\n2\n3\n4\n5\n6\n7\n"
    }
   ],
   "source": [
    "x = np.arange(15)\n",
    "print(x)\n",
    "for i in np.arange(8):\n",
    "    print(i)"
   ]
  },
  {
   "cell_type": "code",
   "execution_count": 38,
   "metadata": {
    "tags": []
   },
   "outputs": [
    {
     "output_type": "stream",
     "name": "stdout",
     "text": "[1. 2. 3.]\n[1 2 3]\n"
    }
   ],
   "source": [
    "# 知道ndarray中的元素是有类型的即可\n",
    "arr1 = np.array([1,2,3],dtype=np.float64)\n",
    "arr2 = np.array([1,2,3],dtype=np.int32)\n",
    "print(arr1)\n",
    "print(arr2)"
   ]
  },
  {
   "cell_type": "code",
   "execution_count": 158,
   "metadata": {
    "tags": []
   },
   "outputs": [
    {
     "output_type": "stream",
     "name": "stdout",
     "text": "[ 0  8 16 24 32 40 48 56 64 72 80 88 96]\n72\n[40 48 56 64 72 80]\n"
    }
   ],
   "source": [
    "# 索引与切片\n",
    "a = np.arange(0,100,8)\n",
    "print(a)\n",
    "print(a[9])\n",
    "print(a[5:-2])"
   ]
  },
  {
   "cell_type": "markdown",
   "metadata": {},
   "source": [
    "## 2.数组函数"
   ]
  },
  {
   "cell_type": "code",
   "execution_count": 146,
   "metadata": {},
   "outputs": [
    {
     "output_type": "execute_result",
     "data": {
      "text/plain": "array([ 0,  1,  2,  3,  4,  5,  6,  7,  8,  9, 10])"
     },
     "metadata": {},
     "execution_count": 146
    }
   ],
   "source": [
    "arr = np.arange(11)\n",
    "arr"
   ]
  },
  {
   "cell_type": "code",
   "execution_count": 147,
   "metadata": {
    "tags": []
   },
   "outputs": [
    {
     "output_type": "execute_result",
     "data": {
      "text/plain": "array([1.00000000e+00, 2.71828183e+00, 7.38905610e+00, 2.00855369e+01,\n       5.45981500e+01, 1.48413159e+02, 4.03428793e+02, 1.09663316e+03,\n       2.98095799e+03, 8.10308393e+03, 2.20264658e+04])"
     },
     "metadata": {},
     "execution_count": 147
    }
   ],
   "source": [
    "np.exp(arr)"
   ]
  },
  {
   "cell_type": "code",
   "execution_count": 149,
   "metadata": {},
   "outputs": [
    {
     "output_type": "execute_result",
     "data": {
      "text/plain": "5.0"
     },
     "metadata": {},
     "execution_count": 149
    }
   ],
   "source": [
    "np.mean(arr)"
   ]
  },
  {
   "cell_type": "code",
   "execution_count": 152,
   "metadata": {},
   "outputs": [
    {
     "output_type": "execute_result",
     "data": {
      "text/plain": "array([[0.93824031, 0.91668679, 0.71331186],\n       [0.59417934, 0.68131361, 0.51702869],\n       [0.2341186 , 0.43701095, 0.37144218]])"
     },
     "metadata": {},
     "execution_count": 152
    }
   ],
   "source": [
    "np.random.rand(3,3)"
   ]
  },
  {
   "cell_type": "code",
   "execution_count": 157,
   "metadata": {},
   "outputs": [
    {
     "output_type": "execute_result",
     "data": {
      "text/plain": "0"
     },
     "metadata": {},
     "execution_count": 157
    }
   ],
   "source": [
    "np.random.randint(8)"
   ]
  },
  {
   "cell_type": "code",
   "execution_count": 154,
   "metadata": {},
   "outputs": [
    {
     "output_type": "execute_result",
     "data": {
      "text/plain": "array([[3, 3, 3],\n       [0, 2, 0],\n       [4, 4, 4]])"
     },
     "metadata": {},
     "execution_count": 154
    }
   ],
   "source": [
    "np.random.randint(0,5,[3,3])"
   ]
  },
  {
   "cell_type": "markdown",
   "metadata": {},
   "source": [
    "## 3.矢量运算\n",
    "逐元素运算"
   ]
  },
  {
   "cell_type": "code",
   "execution_count": 40,
   "metadata": {},
   "outputs": [
    {
     "output_type": "execute_result",
     "data": {
      "text/plain": "array([[1, 2, 3],\n       [4, 5, 6]])"
     },
     "metadata": {},
     "execution_count": 40
    }
   ],
   "source": [
    "arr = np.array([[1,2,3],[4,5,6]])\n",
    "arr"
   ]
  },
  {
   "cell_type": "code",
   "execution_count": 49,
   "metadata": {
    "tags": []
   },
   "outputs": [
    {
     "output_type": "stream",
     "name": "stdout",
     "text": "[[ 2  4  6]\n [ 8 10 12]] \n\n[[0 0 0]\n [0 0 0]] \n\n[[ 1  4  9]\n [16 25 36]] \n\n[[1. 1. 1.]\n [1. 1. 1.]] \n\n"
    }
   ],
   "source": [
    "# 按照元素运算\n",
    "print(arr+arr,'\\n')\n",
    "print(arr-arr,'\\n')\n",
    "print(arr*arr,'\\n')\n",
    "print(arr/arr,'\\n')"
   ]
  },
  {
   "cell_type": "code",
   "execution_count": 43,
   "metadata": {},
   "outputs": [
    {
     "output_type": "execute_result",
     "data": {
      "text/plain": "array([[ 1,  4,  9],\n       [16, 25, 36]], dtype=int32)"
     },
     "metadata": {},
     "execution_count": 43
    }
   ],
   "source": [
    "arr**2"
   ]
  },
  {
   "cell_type": "code",
   "execution_count": 44,
   "metadata": {},
   "outputs": [
    {
     "output_type": "execute_result",
     "data": {
      "text/plain": "array([[ 2,  4,  6],\n       [ 8, 10, 12]])"
     },
     "metadata": {},
     "execution_count": 44
    }
   ],
   "source": [
    "arr+arr"
   ]
  },
  {
   "cell_type": "markdown",
   "metadata": {},
   "source": [
    "广播：不同形状的数组之间的运算方式"
   ]
  },
  {
   "cell_type": "code",
   "execution_count": 87,
   "metadata": {
    "tags": []
   },
   "outputs": [
    {
     "output_type": "stream",
     "name": "stdout",
     "text": "[0 1 2 3 4 5 6]\n[ 0 10 20 30 40 50 60]\n"
    }
   ],
   "source": [
    "arr1 = np.arange(7)\n",
    "print(arr1)\n",
    "\n",
    "# 标量10广播到了其他元素上\n",
    "arr2 = arr*10\n",
    "print(arr2)"
   ]
  },
  {
   "cell_type": "code",
   "execution_count": 91,
   "metadata": {
    "tags": []
   },
   "outputs": [
    {
     "output_type": "stream",
     "name": "stdout",
     "text": "[0 1 2 3 4 5 6]\n[0 1 2 3]\n"
    },
    {
     "output_type": "error",
     "ename": "ValueError",
     "evalue": "operands could not be broadcast together with shapes (7,) (4,) ",
     "traceback": [
      "\u001b[1;31m---------------------------------------------------------------------------\u001b[0m",
      "\u001b[1;31mValueError\u001b[0m                                Traceback (most recent call last)",
      "\u001b[1;32m<ipython-input-91-1f57043add96>\u001b[0m in \u001b[0;36m<module>\u001b[1;34m\u001b[0m\n\u001b[0;32m      4\u001b[0m \u001b[0mprint\u001b[0m\u001b[1;33m(\u001b[0m\u001b[0marr1\u001b[0m\u001b[1;33m)\u001b[0m\u001b[1;33m\u001b[0m\u001b[0m\n\u001b[0;32m      5\u001b[0m \u001b[0mprint\u001b[0m\u001b[1;33m(\u001b[0m\u001b[0marr3\u001b[0m\u001b[1;33m)\u001b[0m\u001b[1;33m\u001b[0m\u001b[0m\n\u001b[1;32m----> 6\u001b[1;33m \u001b[0marr1\u001b[0m \u001b[1;33m+\u001b[0m \u001b[0marr3\u001b[0m\u001b[1;33m\u001b[0m\u001b[0m\n\u001b[0m",
      "\u001b[1;31mValueError\u001b[0m: operands could not be broadcast together with shapes (7,) (4,) "
     ]
    }
   ],
   "source": [
    "arr1 = np.arange(7)\n",
    "arr3 = np.arange(4)\n",
    "\n",
    "print(arr1)\n",
    "print(arr3)\n",
    "arr1 + arr3"
   ]
  },
  {
   "cell_type": "code",
   "execution_count": 79,
   "metadata": {},
   "outputs": [
    {
     "output_type": "execute_result",
     "data": {
      "text/plain": "array([[0, 0, 0],\n       [1, 1, 1],\n       [2, 2, 2],\n       [3, 3, 3]])"
     },
     "metadata": {},
     "execution_count": 79
    }
   ],
   "source": [
    "arr1 = np.arange(4).reshape(-1,1)\n",
    "arr1 = np.tile(arr1,3)\n",
    "arr1"
   ]
  },
  {
   "cell_type": "code",
   "execution_count": 74,
   "metadata": {},
   "outputs": [
    {
     "output_type": "execute_result",
     "data": {
      "text/plain": "array([1, 2, 3])"
     },
     "metadata": {},
     "execution_count": 74
    }
   ],
   "source": [
    "arr2 = np.arange(1,4)\n",
    "arr2"
   ]
  },
  {
   "cell_type": "code",
   "execution_count": 82,
   "metadata": {},
   "outputs": [
    {
     "output_type": "execute_result",
     "data": {
      "text/plain": "array([[1, 2, 3],\n       [2, 3, 4],\n       [3, 4, 5],\n       [4, 5, 6]])"
     },
     "metadata": {},
     "execution_count": 82
    }
   ],
   "source": [
    "arr1+arr2"
   ]
  },
  {
   "cell_type": "code",
   "execution_count": 85,
   "metadata": {},
   "outputs": [
    {
     "output_type": "execute_result",
     "data": {
      "text/plain": "array([[0, 0, 0],\n       [1, 2, 3],\n       [2, 4, 6],\n       [3, 6, 9]])"
     },
     "metadata": {},
     "execution_count": 85
    }
   ],
   "source": [
    "arr1*arr2"
   ]
  },
  {
   "cell_type": "code",
   "execution_count": 78,
   "metadata": {},
   "outputs": [
    {
     "output_type": "execute_result",
     "data": {
      "text/plain": "array([[1],\n       [2],\n       [3],\n       [4]])"
     },
     "metadata": {},
     "execution_count": 78
    }
   ],
   "source": [
    "arr3 = np.arange(1,5).reshape(-1,1)\n",
    "arr3"
   ]
  },
  {
   "cell_type": "code",
   "execution_count": 80,
   "metadata": {},
   "outputs": [
    {
     "output_type": "execute_result",
     "data": {
      "text/plain": "array([[ 0,  0,  0],\n       [ 2,  2,  2],\n       [ 6,  6,  6],\n       [12, 12, 12]])"
     },
     "metadata": {},
     "execution_count": 80
    }
   ],
   "source": [
    "arr1*arr3"
   ]
  },
  {
   "cell_type": "code",
   "execution_count": 121,
   "metadata": {},
   "outputs": [
    {
     "output_type": "execute_result",
     "data": {
      "text/plain": "array([[[0, 1],\n        [2, 3],\n        [4, 5],\n        [6, 7]],\n\n       [[0, 1],\n        [2, 3],\n        [4, 5],\n        [6, 7]],\n\n       [[0, 1],\n        [2, 3],\n        [4, 5],\n        [6, 7]]])"
     },
     "metadata": {},
     "execution_count": 121
    }
   ],
   "source": [
    "# 三维数组，在0轴广播\n",
    "arr1 = np.array([[0,2,4,6],[1,3,5,7]]).T.reshape(1,4,2)\n",
    "arr1 = np.concatenate((arr1,arr1,arr1),axis=0)\n",
    "arr1"
   ]
  },
  {
   "cell_type": "code",
   "execution_count": 125,
   "metadata": {},
   "outputs": [
    {
     "output_type": "execute_result",
     "data": {
      "text/plain": "array([[[0, 1],\n        [2, 3],\n        [4, 5],\n        [6, 7],\n        [8, 9]]])"
     },
     "metadata": {},
     "execution_count": 125
    }
   ],
   "source": [
    "arr2 = np.array([[0,2,4,6,8],[1,3,5,7,9]]).T.reshape(1,-1,2)\n",
    "arr2"
   ]
  },
  {
   "cell_type": "code",
   "execution_count": 126,
   "metadata": {},
   "outputs": [
    {
     "output_type": "error",
     "ename": "ValueError",
     "evalue": "operands could not be broadcast together with shapes (3,4,2) (1,5,2) ",
     "traceback": [
      "\u001b[1;31m---------------------------------------------------------------------------\u001b[0m",
      "\u001b[1;31mValueError\u001b[0m                                Traceback (most recent call last)",
      "\u001b[1;32m<ipython-input-126-e489ba1ad4d1>\u001b[0m in \u001b[0;36m<module>\u001b[1;34m\u001b[0m\n\u001b[1;32m----> 1\u001b[1;33m \u001b[0marr1\u001b[0m\u001b[1;33m+\u001b[0m\u001b[0marr2\u001b[0m\u001b[1;33m\u001b[0m\u001b[0m\n\u001b[0m",
      "\u001b[1;31mValueError\u001b[0m: operands could not be broadcast together with shapes (3,4,2) (1,5,2) "
     ]
    }
   ],
   "source": [
    "arr1+arr2"
   ]
  },
  {
   "cell_type": "code",
   "execution_count": null,
   "metadata": {},
   "outputs": [],
   "source": []
  }
 ],
 "metadata": {
  "language_info": {
   "codemirror_mode": {
    "name": "ipython",
    "version": 3
   },
   "file_extension": ".py",
   "mimetype": "text/x-python",
   "name": "python",
   "nbconvert_exporter": "python",
   "pygments_lexer": "ipython3",
   "version": 3
  },
  "orig_nbformat": 2,
  "kernelspec": {
   "name": "python_defaultSpec_1594868464745",
   "display_name": "Python 3.6.4 64-bit ('base': conda)"
  }
 },
 "nbformat": 4,
 "nbformat_minor": 2
}