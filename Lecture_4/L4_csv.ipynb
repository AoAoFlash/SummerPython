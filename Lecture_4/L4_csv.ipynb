{
 "metadata": {
  "language_info": {
   "codemirror_mode": {
    "name": "ipython",
    "version": 3
   },
   "file_extension": ".py",
   "mimetype": "text/x-python",
   "name": "python",
   "nbconvert_exporter": "python",
   "pygments_lexer": "ipython3",
   "version": 3
  },
  "orig_nbformat": 2,
  "kernelspec": {
   "name": "python_defaultSpec_1596269419562",
   "display_name": "Python 3.6.4 64-bit ('base': conda)"
  }
 },
 "nbformat": 4,
 "nbformat_minor": 2,
 "cells": [
  {
   "cell_type": "code",
   "execution_count": 1,
   "metadata": {},
   "outputs": [],
   "source": [
    "# 若无法导入，则pip install pandas\n",
    "import pandas as pd"
   ]
  },
  {
   "cell_type": "code",
   "execution_count": 5,
   "metadata": {},
   "outputs": [
    {
     "output_type": "execute_result",
     "data": {
      "text/plain": "          date       PKU指数       THU指数\n0     2012-1-1   76.985291   40.301222\n1     2012-2-1   71.506866   33.981832\n2     2012-3-1   57.410031   51.475666\n3     2012-4-1   56.485801   41.560597\n4     2012-5-1   39.225449   27.668570\n..         ...         ...         ...\n117  2021-10-1  141.698789  199.537386\n118  2021-11-1  149.804607  215.963365\n119  2021-12-1  143.574939  223.464030\n120   2022-1-1  117.443904  196.151518\n121   2022-2-1  144.976472  217.230120\n\n[122 rows x 3 columns]",
      "text/html": "<div>\n<style scoped>\n    .dataframe tbody tr th:only-of-type {\n        vertical-align: middle;\n    }\n\n    .dataframe tbody tr th {\n        vertical-align: top;\n    }\n\n    .dataframe thead th {\n        text-align: right;\n    }\n</style>\n<table border=\"1\" class=\"dataframe\">\n  <thead>\n    <tr style=\"text-align: right;\">\n      <th></th>\n      <th>date</th>\n      <th>PKU指数</th>\n      <th>THU指数</th>\n    </tr>\n  </thead>\n  <tbody>\n    <tr>\n      <th>0</th>\n      <td>2012-1-1</td>\n      <td>76.985291</td>\n      <td>40.301222</td>\n    </tr>\n    <tr>\n      <th>1</th>\n      <td>2012-2-1</td>\n      <td>71.506866</td>\n      <td>33.981832</td>\n    </tr>\n    <tr>\n      <th>2</th>\n      <td>2012-3-1</td>\n      <td>57.410031</td>\n      <td>51.475666</td>\n    </tr>\n    <tr>\n      <th>3</th>\n      <td>2012-4-1</td>\n      <td>56.485801</td>\n      <td>41.560597</td>\n    </tr>\n    <tr>\n      <th>4</th>\n      <td>2012-5-1</td>\n      <td>39.225449</td>\n      <td>27.668570</td>\n    </tr>\n    <tr>\n      <th>...</th>\n      <td>...</td>\n      <td>...</td>\n      <td>...</td>\n    </tr>\n    <tr>\n      <th>117</th>\n      <td>2021-10-1</td>\n      <td>141.698789</td>\n      <td>199.537386</td>\n    </tr>\n    <tr>\n      <th>118</th>\n      <td>2021-11-1</td>\n      <td>149.804607</td>\n      <td>215.963365</td>\n    </tr>\n    <tr>\n      <th>119</th>\n      <td>2021-12-1</td>\n      <td>143.574939</td>\n      <td>223.464030</td>\n    </tr>\n    <tr>\n      <th>120</th>\n      <td>2022-1-1</td>\n      <td>117.443904</td>\n      <td>196.151518</td>\n    </tr>\n    <tr>\n      <th>121</th>\n      <td>2022-2-1</td>\n      <td>144.976472</td>\n      <td>217.230120</td>\n    </tr>\n  </tbody>\n</table>\n<p>122 rows × 3 columns</p>\n</div>"
     },
     "metadata": {},
     "execution_count": 5
    }
   ],
   "source": [
    "df = pd.read_csv(\"Data_samples\\TimeSeriesData.csv\", encoding='gbk')\n",
    "# df = pd.read_csv(\"TimeSeriesData.csv\", encoding='gbk')\n",
    "df"
   ]
  },
  {
   "cell_type": "code",
   "execution_count": null,
   "metadata": {},
   "outputs": [],
   "source": []
  }
 ]
}