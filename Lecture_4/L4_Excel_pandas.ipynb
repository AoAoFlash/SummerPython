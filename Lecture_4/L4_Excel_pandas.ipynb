{
 "metadata": {
  "language_info": {
   "codemirror_mode": {
    "name": "ipython",
    "version": 3
   },
   "file_extension": ".py",
   "mimetype": "text/x-python",
   "name": "python",
   "nbconvert_exporter": "python",
   "pygments_lexer": "ipython3",
   "version": 3
  },
  "orig_nbformat": 2,
  "kernelspec": {
   "name": "python_defaultSpec_1596208057339",
   "display_name": "Python 3.6.4 64-bit ('base': conda)"
  }
 },
 "nbformat": 4,
 "nbformat_minor": 2,
 "cells": [
  {
   "cell_type": "code",
   "execution_count": 1,
   "metadata": {},
   "outputs": [],
   "source": [
    "# 若无法导入，则pip install pandas\n",
    "import pandas as pd"
   ]
  },
  {
   "cell_type": "code",
   "execution_count": 2,
   "metadata": {},
   "outputs": [
    {
     "output_type": "execute_result",
     "data": {
      "text/plain": "         目的地    描述  院系名  人数   计划\n0        阿富汗  第4公司   工物  13  rap\n1        伊拉克  第8公司   水利  13   篮球\n2         约旦  第7公司  自动化  12  rap\n3        黎巴嫩  第3公司  自动化   2    唱\n4        以色列  第2公司   土木  10    唱\n5       巴勒斯坦  第6公司   水利  10   篮球\n6      沙特阿拉伯  第5公司   航院  14    唱\n7         巴林  第2公司   社科   8   篮球\n8        卡塔尔  第3公司   航院  14    唱\n9        科威特  第2公司   水利   8    跳\n10  阿拉伯联合酋长国  第7公司   土木   6    跳\n11        阿曼  第7公司   航院  16  rap\n12        也门  第7公司   水利   3   篮球\n13      格鲁吉亚  第6公司   社科  11  rap\n14      亚美尼亚  第6公司  自动化  10  rap\n15      阿塞拜疆  第2公司   水利  18    唱\n16       土耳其  第6公司   水利  19  rap\n17      塞浦路斯  第3公司   航院   9   篮球",
      "text/html": "<div>\n<style scoped>\n    .dataframe tbody tr th:only-of-type {\n        vertical-align: middle;\n    }\n\n    .dataframe tbody tr th {\n        vertical-align: top;\n    }\n\n    .dataframe thead th {\n        text-align: right;\n    }\n</style>\n<table border=\"1\" class=\"dataframe\">\n  <thead>\n    <tr style=\"text-align: right;\">\n      <th></th>\n      <th>目的地</th>\n      <th>描述</th>\n      <th>院系名</th>\n      <th>人数</th>\n      <th>计划</th>\n    </tr>\n  </thead>\n  <tbody>\n    <tr>\n      <th>0</th>\n      <td>阿富汗</td>\n      <td>第4公司</td>\n      <td>工物</td>\n      <td>13</td>\n      <td>rap</td>\n    </tr>\n    <tr>\n      <th>1</th>\n      <td>伊拉克</td>\n      <td>第8公司</td>\n      <td>水利</td>\n      <td>13</td>\n      <td>篮球</td>\n    </tr>\n    <tr>\n      <th>2</th>\n      <td>约旦</td>\n      <td>第7公司</td>\n      <td>自动化</td>\n      <td>12</td>\n      <td>rap</td>\n    </tr>\n    <tr>\n      <th>3</th>\n      <td>黎巴嫩</td>\n      <td>第3公司</td>\n      <td>自动化</td>\n      <td>2</td>\n      <td>唱</td>\n    </tr>\n    <tr>\n      <th>4</th>\n      <td>以色列</td>\n      <td>第2公司</td>\n      <td>土木</td>\n      <td>10</td>\n      <td>唱</td>\n    </tr>\n    <tr>\n      <th>5</th>\n      <td>巴勒斯坦</td>\n      <td>第6公司</td>\n      <td>水利</td>\n      <td>10</td>\n      <td>篮球</td>\n    </tr>\n    <tr>\n      <th>6</th>\n      <td>沙特阿拉伯</td>\n      <td>第5公司</td>\n      <td>航院</td>\n      <td>14</td>\n      <td>唱</td>\n    </tr>\n    <tr>\n      <th>7</th>\n      <td>巴林</td>\n      <td>第2公司</td>\n      <td>社科</td>\n      <td>8</td>\n      <td>篮球</td>\n    </tr>\n    <tr>\n      <th>8</th>\n      <td>卡塔尔</td>\n      <td>第3公司</td>\n      <td>航院</td>\n      <td>14</td>\n      <td>唱</td>\n    </tr>\n    <tr>\n      <th>9</th>\n      <td>科威特</td>\n      <td>第2公司</td>\n      <td>水利</td>\n      <td>8</td>\n      <td>跳</td>\n    </tr>\n    <tr>\n      <th>10</th>\n      <td>阿拉伯联合酋长国</td>\n      <td>第7公司</td>\n      <td>土木</td>\n      <td>6</td>\n      <td>跳</td>\n    </tr>\n    <tr>\n      <th>11</th>\n      <td>阿曼</td>\n      <td>第7公司</td>\n      <td>航院</td>\n      <td>16</td>\n      <td>rap</td>\n    </tr>\n    <tr>\n      <th>12</th>\n      <td>也门</td>\n      <td>第7公司</td>\n      <td>水利</td>\n      <td>3</td>\n      <td>篮球</td>\n    </tr>\n    <tr>\n      <th>13</th>\n      <td>格鲁吉亚</td>\n      <td>第6公司</td>\n      <td>社科</td>\n      <td>11</td>\n      <td>rap</td>\n    </tr>\n    <tr>\n      <th>14</th>\n      <td>亚美尼亚</td>\n      <td>第6公司</td>\n      <td>自动化</td>\n      <td>10</td>\n      <td>rap</td>\n    </tr>\n    <tr>\n      <th>15</th>\n      <td>阿塞拜疆</td>\n      <td>第2公司</td>\n      <td>水利</td>\n      <td>18</td>\n      <td>唱</td>\n    </tr>\n    <tr>\n      <th>16</th>\n      <td>土耳其</td>\n      <td>第6公司</td>\n      <td>水利</td>\n      <td>19</td>\n      <td>rap</td>\n    </tr>\n    <tr>\n      <th>17</th>\n      <td>塞浦路斯</td>\n      <td>第3公司</td>\n      <td>航院</td>\n      <td>9</td>\n      <td>篮球</td>\n    </tr>\n  </tbody>\n</table>\n</div>"
     },
     "metadata": {},
     "execution_count": 2
    }
   ],
   "source": [
    "df = pd.read_excel(\"社会实践报名表.xlsx\")\n",
    "df"
   ]
  },
  {
   "cell_type": "code",
   "execution_count": 4,
   "metadata": {},
   "outputs": [
    {
     "output_type": "execute_result",
     "data": {
      "text/plain": "'目的地'"
     },
     "metadata": {},
     "execution_count": 4
    }
   ],
   "source": [
    "df.columns[0]"
   ]
  },
  {
   "cell_type": "code",
   "execution_count": 9,
   "metadata": {},
   "outputs": [
    {
     "output_type": "execute_result",
     "data": {
      "text/plain": "'伊拉克'"
     },
     "metadata": {},
     "execution_count": 9
    }
   ],
   "source": [
    "df['目的地'][1]"
   ]
  },
  {
   "cell_type": "code",
   "execution_count": 5,
   "metadata": {
    "tags": []
   },
   "outputs": [
    {
     "output_type": "stream",
     "name": "stdout",
     "text": "阿富汗\n伊拉克\n约旦\n黎巴嫩\n以色列\n巴勒斯坦\n沙特阿拉伯\n巴林\n卡塔尔\n科威特\n"
    }
   ],
   "source": [
    "for i in range(10):\n",
    "    print(df['目的地'].values[i])"
   ]
  },
  {
   "cell_type": "code",
   "execution_count": 6,
   "metadata": {},
   "outputs": [
    {
     "output_type": "execute_result",
     "data": {
      "text/plain": "         目的地    描述  院系名  人数   计划            备注\n0        阿富汗  第5公司   航院  20   篮球       阿富汗第5公司\n1        伊拉克  第2公司  自动化   3    唱       伊拉克第2公司\n2         约旦  第7公司   电子   3    唱        约旦第7公司\n3        黎巴嫩  第8公司   航院  12    跳       黎巴嫩第8公司\n4        以色列  第8公司   工物  10  rap       以色列第8公司\n5       巴勒斯坦  第2公司   航院  17    唱      巴勒斯坦第2公司\n6      沙特阿拉伯  第2公司   土木   7    唱     沙特阿拉伯第2公司\n7         巴林  第7公司   电子   9    唱        巴林第7公司\n8        卡塔尔  第8公司   土木  15   篮球       卡塔尔第8公司\n9        科威特  第5公司   航院  19    跳       科威特第5公司\n10  阿拉伯联合酋长国  第7公司   航院   8    跳  阿拉伯联合酋长国第7公司\n11        阿曼  第7公司   工物  20    唱        阿曼第7公司\n12        也门  第4公司   社科   3  rap        也门第4公司\n13      格鲁吉亚  第8公司   电子  15    跳      格鲁吉亚第8公司\n14      亚美尼亚  第7公司   土木  11  rap      亚美尼亚第7公司\n15      阿塞拜疆  第5公司   社科   7    唱      阿塞拜疆第5公司\n16       土耳其  第8公司   土木   3    跳       土耳其第8公司\n17      塞浦路斯  第5公司   土木  11    跳      塞浦路斯第5公司",
      "text/html": "<div>\n<style scoped>\n    .dataframe tbody tr th:only-of-type {\n        vertical-align: middle;\n    }\n\n    .dataframe tbody tr th {\n        vertical-align: top;\n    }\n\n    .dataframe thead th {\n        text-align: right;\n    }\n</style>\n<table border=\"1\" class=\"dataframe\">\n  <thead>\n    <tr style=\"text-align: right;\">\n      <th></th>\n      <th>目的地</th>\n      <th>描述</th>\n      <th>院系名</th>\n      <th>人数</th>\n      <th>计划</th>\n      <th>备注</th>\n    </tr>\n  </thead>\n  <tbody>\n    <tr>\n      <th>0</th>\n      <td>阿富汗</td>\n      <td>第5公司</td>\n      <td>航院</td>\n      <td>20</td>\n      <td>篮球</td>\n      <td>阿富汗第5公司</td>\n    </tr>\n    <tr>\n      <th>1</th>\n      <td>伊拉克</td>\n      <td>第2公司</td>\n      <td>自动化</td>\n      <td>3</td>\n      <td>唱</td>\n      <td>伊拉克第2公司</td>\n    </tr>\n    <tr>\n      <th>2</th>\n      <td>约旦</td>\n      <td>第7公司</td>\n      <td>电子</td>\n      <td>3</td>\n      <td>唱</td>\n      <td>约旦第7公司</td>\n    </tr>\n    <tr>\n      <th>3</th>\n      <td>黎巴嫩</td>\n      <td>第8公司</td>\n      <td>航院</td>\n      <td>12</td>\n      <td>跳</td>\n      <td>黎巴嫩第8公司</td>\n    </tr>\n    <tr>\n      <th>4</th>\n      <td>以色列</td>\n      <td>第8公司</td>\n      <td>工物</td>\n      <td>10</td>\n      <td>rap</td>\n      <td>以色列第8公司</td>\n    </tr>\n    <tr>\n      <th>5</th>\n      <td>巴勒斯坦</td>\n      <td>第2公司</td>\n      <td>航院</td>\n      <td>17</td>\n      <td>唱</td>\n      <td>巴勒斯坦第2公司</td>\n    </tr>\n    <tr>\n      <th>6</th>\n      <td>沙特阿拉伯</td>\n      <td>第2公司</td>\n      <td>土木</td>\n      <td>7</td>\n      <td>唱</td>\n      <td>沙特阿拉伯第2公司</td>\n    </tr>\n    <tr>\n      <th>7</th>\n      <td>巴林</td>\n      <td>第7公司</td>\n      <td>电子</td>\n      <td>9</td>\n      <td>唱</td>\n      <td>巴林第7公司</td>\n    </tr>\n    <tr>\n      <th>8</th>\n      <td>卡塔尔</td>\n      <td>第8公司</td>\n      <td>土木</td>\n      <td>15</td>\n      <td>篮球</td>\n      <td>卡塔尔第8公司</td>\n    </tr>\n    <tr>\n      <th>9</th>\n      <td>科威特</td>\n      <td>第5公司</td>\n      <td>航院</td>\n      <td>19</td>\n      <td>跳</td>\n      <td>科威特第5公司</td>\n    </tr>\n    <tr>\n      <th>10</th>\n      <td>阿拉伯联合酋长国</td>\n      <td>第7公司</td>\n      <td>航院</td>\n      <td>8</td>\n      <td>跳</td>\n      <td>阿拉伯联合酋长国第7公司</td>\n    </tr>\n    <tr>\n      <th>11</th>\n      <td>阿曼</td>\n      <td>第7公司</td>\n      <td>工物</td>\n      <td>20</td>\n      <td>唱</td>\n      <td>阿曼第7公司</td>\n    </tr>\n    <tr>\n      <th>12</th>\n      <td>也门</td>\n      <td>第4公司</td>\n      <td>社科</td>\n      <td>3</td>\n      <td>rap</td>\n      <td>也门第4公司</td>\n    </tr>\n    <tr>\n      <th>13</th>\n      <td>格鲁吉亚</td>\n      <td>第8公司</td>\n      <td>电子</td>\n      <td>15</td>\n      <td>跳</td>\n      <td>格鲁吉亚第8公司</td>\n    </tr>\n    <tr>\n      <th>14</th>\n      <td>亚美尼亚</td>\n      <td>第7公司</td>\n      <td>土木</td>\n      <td>11</td>\n      <td>rap</td>\n      <td>亚美尼亚第7公司</td>\n    </tr>\n    <tr>\n      <th>15</th>\n      <td>阿塞拜疆</td>\n      <td>第5公司</td>\n      <td>社科</td>\n      <td>7</td>\n      <td>唱</td>\n      <td>阿塞拜疆第5公司</td>\n    </tr>\n    <tr>\n      <th>16</th>\n      <td>土耳其</td>\n      <td>第8公司</td>\n      <td>土木</td>\n      <td>3</td>\n      <td>跳</td>\n      <td>土耳其第8公司</td>\n    </tr>\n    <tr>\n      <th>17</th>\n      <td>塞浦路斯</td>\n      <td>第5公司</td>\n      <td>土木</td>\n      <td>11</td>\n      <td>跳</td>\n      <td>塞浦路斯第5公司</td>\n    </tr>\n  </tbody>\n</table>\n</div>"
     },
     "metadata": {},
     "execution_count": 6
    }
   ],
   "source": [
    "# 生成新的一列\n",
    "df['备注'] = df['目的地']+df['描述']\n",
    "df"
   ]
  },
  {
   "cell_type": "code",
   "execution_count": 7,
   "metadata": {},
   "outputs": [],
   "source": [
    "# 写入 excel\n",
    "df.to_excel(\"社会实践报名表_pandas.xlsx\")"
   ]
  },
  {
   "cell_type": "code",
   "execution_count": null,
   "metadata": {},
   "outputs": [],
   "source": [
    "\n",
    "def read_info_pandas(filename):\n",
    "    df = pd.read_excel(filename)\n",
    "\n",
    "    result = []\n",
    "    for i in range(5):\n",
    "        result.append(df[df.columns[i]])\n",
    "\n",
    "    return result"
   ]
  }
 ]
}