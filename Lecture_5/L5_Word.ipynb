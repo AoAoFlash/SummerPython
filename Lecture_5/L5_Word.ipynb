{
 "metadata": {
  "language_info": {
   "codemirror_mode": {
    "name": "ipython",
    "version": 3
   },
   "file_extension": ".py",
   "mimetype": "text/x-python",
   "name": "python",
   "nbconvert_exporter": "python",
   "pygments_lexer": "ipython3",
   "version": 3
  },
  "orig_nbformat": 2,
  "kernelspec": {
   "name": "python_defaultSpec_1595041098844",
   "display_name": "Python 3.6.4 64-bit ('base': conda)"
  }
 },
 "nbformat": 4,
 "nbformat_minor": 2,
 "cells": [
  {
   "cell_type": "code",
   "execution_count": 2,
   "metadata": {},
   "outputs": [],
   "source": [
    "# 若无法导入，则pip install python-docx\n",
    "import docx"
   ]
  },
  {
   "cell_type": "markdown",
   "metadata": {},
   "source": [
    "## 读取Word"
   ]
  },
  {
   "cell_type": "code",
   "execution_count": 199,
   "metadata": {
    "tags": []
   },
   "outputs": [
    {
     "output_type": "stream",
     "name": "stdout",
     "text": "段落数:11\n第0段：背影\n第1段：我与父亲不相见已二年余了，我最不能忘记的是他的背影。那年冬天\n第2段：　　回家变卖典质，父亲还了亏空；又借钱办了丧事。这些日子，家\n第3段：　　到南京时，有朋友约去游逛，勾留了一日；第二日上午便须渡江\n第4段：　　我们过了江，进了车站。我买票，他忙着照看行李。行李太多了\n第5段：　　我说道，“爸爸，你走吧。”他望车外看了看，说，“我买几个\n第6段：　　近几年来，父亲和我都是东奔西走，家中光景是一日不如一日。\n第7段：\n第8段：1925年10月在北京。\n第9段：朱自清\n第10段：\n"
    }
   ],
   "source": [
    "#获取文档对象\n",
    "file=docx.Document(\"背影.docx\")\n",
    "print(\"段落数:\"+str(len(file.paragraphs)))\n",
    "\n",
    "# #输出每一段的内容\n",
    "# for para in file.paragraphs:\n",
    "#     print(para.text)\n",
    "\n",
    "#输出段落编号及段落内容\n",
    "for i,paragraph in enumerate(file.paragraphs):\n",
    "    print(\"第\"+str(i)+\"段：\"+paragraph.text[:30])"
   ]
  },
  {
   "cell_type": "code",
   "execution_count": 195,
   "metadata": {
    "tags": []
   },
   "outputs": [
    {
     "output_type": "stream",
     "name": "stdout",
     "text": "背影\n我与父亲不相见已二年余了，我最不能忘记的是他的背影。那年冬天，祖母死了，父亲的差使也交卸了，正是祸不单行的日子，我从北京到徐州，打算跟着父亲奔丧回家。到徐州见着父亲，看见满院狼藉的东西，又想起祖母，不禁簌簌地流下眼泪。父亲说，“事已如此，不必难过，好在天无绝人之路！”\n　　回家变卖典质，父亲还了亏空；又借钱办了丧事。这些日子，家中光景很是惨淡，一半为了丧事，一半为了父亲赋闲。丧事完毕，父亲要到南京谋事，我也要回北京念书，我们便同行。\n　　到南京时，有朋友约去游逛，勾留了一日；第二日上午便须渡江到浦口，下午上车北去。父亲因为事忙，本已说定不送我，叫旅馆里一个熟识的茶房陪我同去。他再三嘱咐茶房，甚是仔细。但他终于不放心，怕茶房不妥帖；颇踌躇了一会。其实我那年已二十岁，北京已来往过两三次，是没有甚么要紧的了。他踌躇了一会，终于决定还是自己送我去。我两三回劝他不必去；他只说，“不要紧，他们去不好！”\n　　我们过了江，进了车站。我买票，他忙着照看行李。行李太多了，得向脚夫行些小费，才可过去。他便又忙着和他们讲价钱。我那时真是聪明过分，总觉他说话不大漂亮，非自己插嘴不可。但他终于讲定了价钱；就送我上车。他给我拣定了靠车门的一张椅子；我将他给我做的紫毛大衣铺好坐位。他嘱我路上小心，夜里警醒些，不要受凉。又嘱托茶房好好照应我。我心里暗笑他的迂；他们只认得钱，托他们直是白托！而且我这样大年纪的人，难道还不能料理自己么？唉，我现在想想，那时真是太聪明了！\n　　我说道，“爸爸，你走吧。”他望车外看了看，说，“我买几个橘子去。你就在此地，不要走动。”我看那边月台的栅栏外有几个卖东西的等着顾客。走到那边月台，须穿过铁道，须跳下去又爬上去。父亲是一个胖子，走过去自然要费事些。我本来要去的，他不肯，只好让他去。我看见他戴着黑布小帽，穿着黑布大马褂，深青布棉袍，蹒跚地走到铁道边，慢慢探身下去，尚不大难。可是他穿过铁道，要爬上那边月台，就不容易了。他用两手攀着上面，两脚再向上缩；他肥胖的身子向左微倾，显出努力的样子。这时我看见他的背影，我的泪很快地流下来了。我赶紧拭干了泪，怕他看见，也怕别人看见。我再向外看时，他已抱了朱红的橘子望回走了。过铁道时，他先将橘子散放在地上，自己慢慢爬下，再抱起橘子走。到这边时，我赶紧去搀他。他和我走到车上，将橘子一股脑儿放在我的皮大衣上。于是扑扑衣上的泥土，心里很轻松似的，过一会说，“我走了；到那边来信！”我望着他走出去。他走了几步，回过头看见我，说，“进去吧，里边没人。”等他的背影混入来来往往的人里，再找不着了，我便进来坐下，我的眼泪又来了。\n　　近几年来，父亲和我都是东奔西走，家中光景是一日不如一日。他少年出外谋生，独力支持，做了许多大事。那知老境却如此颓唐！他触目伤怀，自然情不能自已。情郁于中，自然要发之于外；家庭琐屑便往往触他之怒。他待我渐渐不同往日。但最近两年的不见，他终于忘却我的不好，只是惦记着我，惦记着我的儿子。我北来后，他写了一信给我，信中说道，“我身体平安，惟膀子疼痛利害，举箸提笔，诸多不便，大约大去之期不远矣。”我读到此处，在晶莹的泪光中，又看见那肥胖的，青布棉袍，黑布马褂的背影。唉！我不知何时再能与他相见！\n\n1925年10月在北京。\n朱自清\n\n"
    }
   ],
   "source": []
  },
  {
   "cell_type": "markdown",
   "metadata": {},
   "source": [
    "## 写入Word"
   ]
  },
  {
   "cell_type": "code",
   "execution_count": 16,
   "metadata": {},
   "outputs": [],
   "source": [
    "doc = docx.Document()"
   ]
  },
  {
   "cell_type": "code",
   "execution_count": 22,
   "metadata": {},
   "outputs": [
    {
     "output_type": "execute_result",
     "data": {
      "text/plain": "<docx.text.paragraph.Paragraph at 0x267f876fc50>"
     },
     "metadata": {},
     "execution_count": 22
    }
   ],
   "source": [
    "# 添加标题\n",
    "doc.add_heading(\"Python程序设计报告\", level=0)\n",
    "doc.add_heading(\"Python程序设计报告\", level=1)\n",
    "doc.add_heading(\"Python程序设计报告\", level=2)\n",
    "doc.add_heading(\"Python程序设计报告\", level=3)"
   ]
  },
  {
   "cell_type": "code",
   "execution_count": 23,
   "metadata": {},
   "outputs": [
    {
     "output_type": "execute_result",
     "data": {
      "text/plain": "<docx.text.paragraph.Paragraph at 0x267f7fb11d0>"
     },
     "metadata": {},
     "execution_count": 23
    }
   ],
   "source": [
    "# 添加段落\n",
    "doc.add_paragraph(\"本文基于python，实现了有趣的操作\")\n",
    "doc.add_paragraph(\"自动化脚本\")\n",
    "doc.add_paragraph(\"数据处理\")\n",
    "doc.add_paragraph(\"人工智能\")"
   ]
  },
  {
   "cell_type": "code",
   "execution_count": 26,
   "metadata": {},
   "outputs": [],
   "source": [
    "# 保存文档\n",
    "# 进行本操作的时候请确认该文档是关闭的，否则会：\n",
    "# PermissionError: [Errno 13] Permission denied: 'Python实验报告_小明.docx'\n",
    "doc.save(\"Python实验报告_小明.docx\")"
   ]
  },
  {
   "cell_type": "code",
   "execution_count": 29,
   "metadata": {},
   "outputs": [
    {
     "output_type": "execute_result",
     "data": {
      "text/plain": "<docx.text.paragraph.Paragraph at 0x267f7fc2a58>"
     },
     "metadata": {},
     "execution_count": 29
    }
   ],
   "source": [
    "# 改字体\n",
    "from docx.oxml.ns import qn\n",
    "\n",
    "doc = docx.Document()\n",
    "doc.styles[\"Normal\"].font.name = u\"宋体\"\n",
    "doc.styles[\"Normal\"]._element.rPr.rFonts.set(qn(\"w:eastAsia\"), u\"宋体\")\n",
    "\n",
    "doc.add_heading(\"Python程序设计报告\", level=0)\n",
    "doc.add_heading(\"Python程序设计报告\", level=1)\n",
    "doc.add_heading(\"Python程序设计报告\", level=2)\n",
    "doc.add_heading(\"Python程序设计报告\", level=3)\n",
    "\n",
    "text = \"老兔寒蟾泣天色，云楼半开壁斜白。玉轮轧露湿团光，鸾珮相逢桂香陌。\\\n",
    "黄尘清水三山下，更变千年如走马。遥望齐州九点烟，一泓海水杯中泻。\"\n",
    "\n",
    "doc.add_paragraph(text)\n",
    "doc.save(\"Python实验报告_小明.docx\")"
   ]
  },
  {
   "cell_type": "code",
   "execution_count": 33,
   "metadata": {
    "tags": []
   },
   "outputs": [
    {
     "output_type": "stream",
     "name": "stdout",
     "text": "Normal\nHeader\nFooter\nHeading 1\nHeading 2\nHeading 3\nHeading 4\nHeading 5\nHeading 6\nHeading 7\nHeading 8\nHeading 9\nNo Spacing\nTitle\nSubtitle\nList Paragraph\nBody Text\nBody Text 2\nBody Text 3\nList\nList 2\nList 3\nList Bullet\nList Bullet 2\nList Bullet 3\nList Number\nList Number 2\nList Number 3\nList Continue\nList Continue 2\nList Continue 3\nmacro\nQuote\nCaption\nIntense Quote\nTOC Heading\n"
    }
   ],
   "source": [
    "# 查看有哪些样式\n",
    "from docx.enum.style import WD_STYLE_TYPE\n",
    "for i in doc.styles:\n",
    "    if i.type == WD_STYLE_TYPE.PARAGRAPH:\n",
    "        print(i.name)"
   ]
  },
  {
   "cell_type": "markdown",
   "metadata": {},
   "source": [
    "## 生成社会实践邀请函"
   ]
  },
  {
   "cell_type": "code",
   "execution_count": 118,
   "metadata": {},
   "outputs": [],
   "source": [
    "target = \"日本冲绳\"\n",
    "description = \"普法直播间\"\n",
    "department = \"法学系\"\n",
    "prof = \"罗翔\"\n",
    "number = 3\n",
    "plan = \"到哔哩哔哩动画做直播\"\n",
    "sender = target + description + \"有限公司\""
   ]
  },
  {
   "cell_type": "code",
   "execution_count": 119,
   "metadata": {},
   "outputs": [
    {
     "output_type": "execute_result",
     "data": {
      "text/plain": "'获悉华大学正在组织优秀学生利用暑假赴海外国家进行社会实践的活动，作为在日本冲绳的普法直播间，我们诚挚的邀请以华大学法学系罗翔教授带队的师生代表团共计3人来日本冲绳进行社会实践，到哔哩哔哩动画做直播。'"
     },
     "metadata": {},
     "execution_count": 119
    }
   ],
   "source": [
    "\n",
    "title = f\"关于邀请华大学师生赴{target}进行暑期社会实践的函\"\n",
    "\n",
    "receiver = r\"青团华大学委员会：\"\n",
    "\n",
    "text = f\"获悉华大学正在组织优秀学生利用暑假赴海外国家进行社会实践的活动，作为在{target}的{description}，我们诚挚的邀请以华大学{department}{prof}教授带队的师生代表团共计{number}人来{target}进行社会实践，{plan}。\"\n",
    "\n",
    "\n",
    "text"
   ]
  },
  {
   "cell_type": "code",
   "execution_count": 120,
   "metadata": {},
   "outputs": [
    {
     "output_type": "execute_result",
     "data": {
      "text/plain": "'2020年07月18日'"
     },
     "metadata": {},
     "execution_count": 120
    }
   ],
   "source": [
    "import time\n",
    "import locale\n",
    "locale.setlocale(locale.LC_CTYPE, 'chinese')\n",
    "date = time.strftime(\"%Y年%m月%d日\")\n",
    "date"
   ]
  },
  {
   "cell_type": "code",
   "execution_count": 174,
   "metadata": {},
   "outputs": [],
   "source": [
    "# 更多设置\n",
    "from docx.shared import Pt,Inches,Cm  # 用来设置字体大小、缩进\n",
    "from docx.oxml.ns import qn  # 设置字体\n",
    "from docx.shared import RGBColor  # 设置字体的颜色\n",
    "from docx.enum.text import WD_ALIGN_PARAGRAPH  # 设置对齐方式\n"
   ]
  },
  {
   "cell_type": "code",
   "execution_count": 185,
   "metadata": {},
   "outputs": [],
   "source": [
    "# 设置格式\n",
    "doc = docx.Document()\n",
    "\n",
    "for i in range(5):\n",
    "    doc.add_paragraph(\"\")\n",
    "\n",
    "para_heading = doc.add_paragraph(\"\")  # 返回标题段落对象\n",
    "para_heading.alignment = WD_ALIGN_PARAGRAPH.CENTER  # 设置为居中对齐\n",
    "para_heading.paragraph_format.space_before = Pt(0)  # 设置段前间距 0 磅\n",
    "para_heading.paragraph_format.space_after = Pt(0)  # 设置段后 0 磅\n",
    "para_heading.paragraph_format.line_spacing = 1  # 设置行间距为 1 倍\n",
    "\n",
    "\n",
    "para_heading.paragraph_format.left_indent = Inches(0)  # 设置左缩进 0 英寸\n",
    "para_heading.paragraph_format.right_indent = Inches(0)  # 设置右缩进 0 英寸\n",
    "\n",
    "\n",
    "run = para_heading.add_run(title)\n",
    "run.font.name = u\"黑体\"  # 设置字体\n",
    "run._element.rPr.rFonts.set(qn(\"w:eastAsia\"), u\"黑体\")  # 设置为字体，和上边的保持一致\n",
    "run.font.size = Pt(20)  # 设置文字的大小为20磅\n",
    "run.font.color.rgb = RGBColor(0, 0, 0)  # 设置颜色为黑色"
   ]
  },
  {
   "cell_type": "code",
   "execution_count": 186,
   "metadata": {},
   "outputs": [],
   "source": [
    "# 设置正文格式\n",
    "doc.styles[\"Normal\"].font.size = Pt(14)\n",
    "doc.styles[\"Normal\"].font.name = u\"仿宋\"#设置当文字是西文时的字体\n",
    "doc.styles[\"Normal\"]._element.rPr.rFonts.set(qn(\"w:eastAsia\"), u\"仿宋\")#设置当文字是中文时的字体"
   ]
  },
  {
   "cell_type": "code",
   "execution_count": 187,
   "metadata": {},
   "outputs": [],
   "source": [
    "# 添加内容\n",
    "for i in range(2):\n",
    "    doc.add_paragraph(\"\")\n",
    "\n",
    "doc.add_paragraph(receiver)\n",
    "\n",
    "paragraph = doc.add_paragraph(text)\n",
    "paragraph.paragraph_format.first_line_indent = Cm(1) # 设置左缩进 0 英寸\n",
    "\n",
    "\n",
    "paragraph= doc.add_paragraph(sender)\n",
    "paragraph.alignment = WD_ALIGN_PARAGRAPH.RIGHT\n",
    "\n",
    "paragraph = doc.add_paragraph(date)\n",
    "paragraph.alignment = WD_ALIGN_PARAGRAPH.RIGHT\n",
    "\n",
    "doc.save(\"社会实践邀请函.docx\")"
   ]
  },
  {
   "cell_type": "code",
   "execution_count": null,
   "metadata": {},
   "outputs": [],
   "source": []
  },
  {
   "cell_type": "code",
   "execution_count": null,
   "metadata": {},
   "outputs": [],
   "source": []
  }
 ]
}