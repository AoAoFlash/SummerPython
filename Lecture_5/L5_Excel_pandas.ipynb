{
 "metadata": {
  "language_info": {
   "codemirror_mode": {
    "name": "ipython",
    "version": 3
   },
   "file_extension": ".py",
   "mimetype": "text/x-python",
   "name": "python",
   "nbconvert_exporter": "python",
   "pygments_lexer": "ipython3",
   "version": 3
  },
  "orig_nbformat": 2,
  "kernelspec": {
   "name": "python_defaultSpec_1595056952678",
   "display_name": "Python 3.6.4 64-bit ('base': conda)"
  }
 },
 "nbformat": 4,
 "nbformat_minor": 2,
 "cells": [
  {
   "cell_type": "code",
   "execution_count": 2,
   "metadata": {},
   "outputs": [],
   "source": [
    "import pandas as pd"
   ]
  },
  {
   "cell_type": "code",
   "execution_count": 4,
   "metadata": {},
   "outputs": [
    {
     "output_type": "execute_result",
     "data": {
      "text/plain": "         目的地    描述  院系名  人数          计划\n0        阿富汗  第4公司   航院  12  到哔哩哔哩动画做直播\n1        伊拉克  第7公司   电子  10  到哔哩哔哩动画做直播\n2         约旦  第6公司   社科   5  到哔哩哔哩动画做直播\n3        黎巴嫩  第4公司   土木  16  到哔哩哔哩动画做直播\n4        以色列  第2公司   水利  20  到哔哩哔哩动画做直播\n5       巴勒斯坦  第5公司   土木   4  到哔哩哔哩动画做直播\n6      沙特阿拉伯  第7公司   航院  18  到哔哩哔哩动画做直播\n7         巴林  第6公司   水利   8  到哔哩哔哩动画做直播\n8        卡塔尔  第2公司   电子   7  到哔哩哔哩动画做直播\n9        科威特  第8公司  自动化  11  到哔哩哔哩动画做直播\n10  阿拉伯联合酋长国  第8公司   土木   4  到哔哩哔哩动画做直播\n11        阿曼  第6公司   社科   9  到哔哩哔哩动画做直播\n12        也门  第8公司   工物  20  到哔哩哔哩动画做直播\n13      格鲁吉亚  第6公司   社科  20  到哔哩哔哩动画做直播\n14      亚美尼亚  第2公司   电子   2  到哔哩哔哩动画做直播\n15      阿塞拜疆  第3公司   水利   3  到哔哩哔哩动画做直播\n16       土耳其  第2公司   土木  15  到哔哩哔哩动画做直播\n17      塞浦路斯  第6公司   航院  20  到哔哩哔哩动画做直播",
      "text/html": "<div>\n<style scoped>\n    .dataframe tbody tr th:only-of-type {\n        vertical-align: middle;\n    }\n\n    .dataframe tbody tr th {\n        vertical-align: top;\n    }\n\n    .dataframe thead th {\n        text-align: right;\n    }\n</style>\n<table border=\"1\" class=\"dataframe\">\n  <thead>\n    <tr style=\"text-align: right;\">\n      <th></th>\n      <th>目的地</th>\n      <th>描述</th>\n      <th>院系名</th>\n      <th>人数</th>\n      <th>计划</th>\n    </tr>\n  </thead>\n  <tbody>\n    <tr>\n      <th>0</th>\n      <td>阿富汗</td>\n      <td>第4公司</td>\n      <td>航院</td>\n      <td>12</td>\n      <td>到哔哩哔哩动画做直播</td>\n    </tr>\n    <tr>\n      <th>1</th>\n      <td>伊拉克</td>\n      <td>第7公司</td>\n      <td>电子</td>\n      <td>10</td>\n      <td>到哔哩哔哩动画做直播</td>\n    </tr>\n    <tr>\n      <th>2</th>\n      <td>约旦</td>\n      <td>第6公司</td>\n      <td>社科</td>\n      <td>5</td>\n      <td>到哔哩哔哩动画做直播</td>\n    </tr>\n    <tr>\n      <th>3</th>\n      <td>黎巴嫩</td>\n      <td>第4公司</td>\n      <td>土木</td>\n      <td>16</td>\n      <td>到哔哩哔哩动画做直播</td>\n    </tr>\n    <tr>\n      <th>4</th>\n      <td>以色列</td>\n      <td>第2公司</td>\n      <td>水利</td>\n      <td>20</td>\n      <td>到哔哩哔哩动画做直播</td>\n    </tr>\n    <tr>\n      <th>5</th>\n      <td>巴勒斯坦</td>\n      <td>第5公司</td>\n      <td>土木</td>\n      <td>4</td>\n      <td>到哔哩哔哩动画做直播</td>\n    </tr>\n    <tr>\n      <th>6</th>\n      <td>沙特阿拉伯</td>\n      <td>第7公司</td>\n      <td>航院</td>\n      <td>18</td>\n      <td>到哔哩哔哩动画做直播</td>\n    </tr>\n    <tr>\n      <th>7</th>\n      <td>巴林</td>\n      <td>第6公司</td>\n      <td>水利</td>\n      <td>8</td>\n      <td>到哔哩哔哩动画做直播</td>\n    </tr>\n    <tr>\n      <th>8</th>\n      <td>卡塔尔</td>\n      <td>第2公司</td>\n      <td>电子</td>\n      <td>7</td>\n      <td>到哔哩哔哩动画做直播</td>\n    </tr>\n    <tr>\n      <th>9</th>\n      <td>科威特</td>\n      <td>第8公司</td>\n      <td>自动化</td>\n      <td>11</td>\n      <td>到哔哩哔哩动画做直播</td>\n    </tr>\n    <tr>\n      <th>10</th>\n      <td>阿拉伯联合酋长国</td>\n      <td>第8公司</td>\n      <td>土木</td>\n      <td>4</td>\n      <td>到哔哩哔哩动画做直播</td>\n    </tr>\n    <tr>\n      <th>11</th>\n      <td>阿曼</td>\n      <td>第6公司</td>\n      <td>社科</td>\n      <td>9</td>\n      <td>到哔哩哔哩动画做直播</td>\n    </tr>\n    <tr>\n      <th>12</th>\n      <td>也门</td>\n      <td>第8公司</td>\n      <td>工物</td>\n      <td>20</td>\n      <td>到哔哩哔哩动画做直播</td>\n    </tr>\n    <tr>\n      <th>13</th>\n      <td>格鲁吉亚</td>\n      <td>第6公司</td>\n      <td>社科</td>\n      <td>20</td>\n      <td>到哔哩哔哩动画做直播</td>\n    </tr>\n    <tr>\n      <th>14</th>\n      <td>亚美尼亚</td>\n      <td>第2公司</td>\n      <td>电子</td>\n      <td>2</td>\n      <td>到哔哩哔哩动画做直播</td>\n    </tr>\n    <tr>\n      <th>15</th>\n      <td>阿塞拜疆</td>\n      <td>第3公司</td>\n      <td>水利</td>\n      <td>3</td>\n      <td>到哔哩哔哩动画做直播</td>\n    </tr>\n    <tr>\n      <th>16</th>\n      <td>土耳其</td>\n      <td>第2公司</td>\n      <td>土木</td>\n      <td>15</td>\n      <td>到哔哩哔哩动画做直播</td>\n    </tr>\n    <tr>\n      <th>17</th>\n      <td>塞浦路斯</td>\n      <td>第6公司</td>\n      <td>航院</td>\n      <td>20</td>\n      <td>到哔哩哔哩动画做直播</td>\n    </tr>\n  </tbody>\n</table>\n</div>"
     },
     "metadata": {},
     "execution_count": 4
    }
   ],
   "source": [
    "df = pandas.read_excel(\"社会实践报名表.xlsx\")\n",
    "df"
   ]
  },
  {
   "cell_type": "code",
   "execution_count": 11,
   "metadata": {
    "tags": []
   },
   "outputs": [
    {
     "output_type": "stream",
     "name": "stdout",
     "text": "阿富汗\n伊拉克\n约旦\n黎巴嫩\n以色列\n巴勒斯坦\n沙特阿拉伯\n巴林\n卡塔尔\n科威特\n"
    }
   ],
   "source": [
    "for i in range(10):\n",
    "    print(df['目的地'].values[i])"
   ]
  },
  {
   "cell_type": "code",
   "execution_count": 13,
   "metadata": {},
   "outputs": [
    {
     "output_type": "execute_result",
     "data": {
      "text/plain": "         目的地    描述  院系名  人数          计划            备注\n0        阿富汗  第4公司   航院  12  到哔哩哔哩动画做直播       阿富汗第4公司\n1        伊拉克  第7公司   电子  10  到哔哩哔哩动画做直播       伊拉克第7公司\n2         约旦  第6公司   社科   5  到哔哩哔哩动画做直播        约旦第6公司\n3        黎巴嫩  第4公司   土木  16  到哔哩哔哩动画做直播       黎巴嫩第4公司\n4        以色列  第2公司   水利  20  到哔哩哔哩动画做直播       以色列第2公司\n5       巴勒斯坦  第5公司   土木   4  到哔哩哔哩动画做直播      巴勒斯坦第5公司\n6      沙特阿拉伯  第7公司   航院  18  到哔哩哔哩动画做直播     沙特阿拉伯第7公司\n7         巴林  第6公司   水利   8  到哔哩哔哩动画做直播        巴林第6公司\n8        卡塔尔  第2公司   电子   7  到哔哩哔哩动画做直播       卡塔尔第2公司\n9        科威特  第8公司  自动化  11  到哔哩哔哩动画做直播       科威特第8公司\n10  阿拉伯联合酋长国  第8公司   土木   4  到哔哩哔哩动画做直播  阿拉伯联合酋长国第8公司\n11        阿曼  第6公司   社科   9  到哔哩哔哩动画做直播        阿曼第6公司\n12        也门  第8公司   工物  20  到哔哩哔哩动画做直播        也门第8公司\n13      格鲁吉亚  第6公司   社科  20  到哔哩哔哩动画做直播      格鲁吉亚第6公司\n14      亚美尼亚  第2公司   电子   2  到哔哩哔哩动画做直播      亚美尼亚第2公司\n15      阿塞拜疆  第3公司   水利   3  到哔哩哔哩动画做直播      阿塞拜疆第3公司\n16       土耳其  第2公司   土木  15  到哔哩哔哩动画做直播       土耳其第2公司\n17      塞浦路斯  第6公司   航院  20  到哔哩哔哩动画做直播      塞浦路斯第6公司",
      "text/html": "<div>\n<style scoped>\n    .dataframe tbody tr th:only-of-type {\n        vertical-align: middle;\n    }\n\n    .dataframe tbody tr th {\n        vertical-align: top;\n    }\n\n    .dataframe thead th {\n        text-align: right;\n    }\n</style>\n<table border=\"1\" class=\"dataframe\">\n  <thead>\n    <tr style=\"text-align: right;\">\n      <th></th>\n      <th>目的地</th>\n      <th>描述</th>\n      <th>院系名</th>\n      <th>人数</th>\n      <th>计划</th>\n      <th>备注</th>\n    </tr>\n  </thead>\n  <tbody>\n    <tr>\n      <th>0</th>\n      <td>阿富汗</td>\n      <td>第4公司</td>\n      <td>航院</td>\n      <td>12</td>\n      <td>到哔哩哔哩动画做直播</td>\n      <td>阿富汗第4公司</td>\n    </tr>\n    <tr>\n      <th>1</th>\n      <td>伊拉克</td>\n      <td>第7公司</td>\n      <td>电子</td>\n      <td>10</td>\n      <td>到哔哩哔哩动画做直播</td>\n      <td>伊拉克第7公司</td>\n    </tr>\n    <tr>\n      <th>2</th>\n      <td>约旦</td>\n      <td>第6公司</td>\n      <td>社科</td>\n      <td>5</td>\n      <td>到哔哩哔哩动画做直播</td>\n      <td>约旦第6公司</td>\n    </tr>\n    <tr>\n      <th>3</th>\n      <td>黎巴嫩</td>\n      <td>第4公司</td>\n      <td>土木</td>\n      <td>16</td>\n      <td>到哔哩哔哩动画做直播</td>\n      <td>黎巴嫩第4公司</td>\n    </tr>\n    <tr>\n      <th>4</th>\n      <td>以色列</td>\n      <td>第2公司</td>\n      <td>水利</td>\n      <td>20</td>\n      <td>到哔哩哔哩动画做直播</td>\n      <td>以色列第2公司</td>\n    </tr>\n    <tr>\n      <th>5</th>\n      <td>巴勒斯坦</td>\n      <td>第5公司</td>\n      <td>土木</td>\n      <td>4</td>\n      <td>到哔哩哔哩动画做直播</td>\n      <td>巴勒斯坦第5公司</td>\n    </tr>\n    <tr>\n      <th>6</th>\n      <td>沙特阿拉伯</td>\n      <td>第7公司</td>\n      <td>航院</td>\n      <td>18</td>\n      <td>到哔哩哔哩动画做直播</td>\n      <td>沙特阿拉伯第7公司</td>\n    </tr>\n    <tr>\n      <th>7</th>\n      <td>巴林</td>\n      <td>第6公司</td>\n      <td>水利</td>\n      <td>8</td>\n      <td>到哔哩哔哩动画做直播</td>\n      <td>巴林第6公司</td>\n    </tr>\n    <tr>\n      <th>8</th>\n      <td>卡塔尔</td>\n      <td>第2公司</td>\n      <td>电子</td>\n      <td>7</td>\n      <td>到哔哩哔哩动画做直播</td>\n      <td>卡塔尔第2公司</td>\n    </tr>\n    <tr>\n      <th>9</th>\n      <td>科威特</td>\n      <td>第8公司</td>\n      <td>自动化</td>\n      <td>11</td>\n      <td>到哔哩哔哩动画做直播</td>\n      <td>科威特第8公司</td>\n    </tr>\n    <tr>\n      <th>10</th>\n      <td>阿拉伯联合酋长国</td>\n      <td>第8公司</td>\n      <td>土木</td>\n      <td>4</td>\n      <td>到哔哩哔哩动画做直播</td>\n      <td>阿拉伯联合酋长国第8公司</td>\n    </tr>\n    <tr>\n      <th>11</th>\n      <td>阿曼</td>\n      <td>第6公司</td>\n      <td>社科</td>\n      <td>9</td>\n      <td>到哔哩哔哩动画做直播</td>\n      <td>阿曼第6公司</td>\n    </tr>\n    <tr>\n      <th>12</th>\n      <td>也门</td>\n      <td>第8公司</td>\n      <td>工物</td>\n      <td>20</td>\n      <td>到哔哩哔哩动画做直播</td>\n      <td>也门第8公司</td>\n    </tr>\n    <tr>\n      <th>13</th>\n      <td>格鲁吉亚</td>\n      <td>第6公司</td>\n      <td>社科</td>\n      <td>20</td>\n      <td>到哔哩哔哩动画做直播</td>\n      <td>格鲁吉亚第6公司</td>\n    </tr>\n    <tr>\n      <th>14</th>\n      <td>亚美尼亚</td>\n      <td>第2公司</td>\n      <td>电子</td>\n      <td>2</td>\n      <td>到哔哩哔哩动画做直播</td>\n      <td>亚美尼亚第2公司</td>\n    </tr>\n    <tr>\n      <th>15</th>\n      <td>阿塞拜疆</td>\n      <td>第3公司</td>\n      <td>水利</td>\n      <td>3</td>\n      <td>到哔哩哔哩动画做直播</td>\n      <td>阿塞拜疆第3公司</td>\n    </tr>\n    <tr>\n      <th>16</th>\n      <td>土耳其</td>\n      <td>第2公司</td>\n      <td>土木</td>\n      <td>15</td>\n      <td>到哔哩哔哩动画做直播</td>\n      <td>土耳其第2公司</td>\n    </tr>\n    <tr>\n      <th>17</th>\n      <td>塞浦路斯</td>\n      <td>第6公司</td>\n      <td>航院</td>\n      <td>20</td>\n      <td>到哔哩哔哩动画做直播</td>\n      <td>塞浦路斯第6公司</td>\n    </tr>\n  </tbody>\n</table>\n</div>"
     },
     "metadata": {},
     "execution_count": 13
    }
   ],
   "source": [
    "df['备注'] = df['目的地']+df['描述']\n",
    "df"
   ]
  },
  {
   "cell_type": "code",
   "execution_count": 14,
   "metadata": {},
   "outputs": [],
   "source": [
    "df.to_excel(\"社会实践报名表_pandas.xlsx\")"
   ]
  },
  {
   "cell_type": "code",
   "execution_count": null,
   "metadata": {},
   "outputs": [],
   "source": []
  }
 ]
}